{
 "cells": [
  {
   "cell_type": "markdown",
   "id": "65e81299-22fc-45f7-bc3c-5407d556349c",
   "metadata": {},
   "source": [
    "# Tuberías simples\n",
    "## Comprobación de diseño\n",
    "### **Ejemplo No.1**\n",
    "> Se desea calcular el caudal de agua que puede ser movido a traves de una tuberia de PVC de 12 pulg de diametro nominal y 730 m de longitud que conecta dos tanques de abastecimiento de agua potable con una diferencia de nivel de 43.5 m. El diametro real de la tuberia es de 293 mm y su rugosidad absoluta es de 1.5 x 10$^{-6}$ m. Todos los accesorios que forman parte del sistema, incluyendo la entrada y la salida, implican un coeficiente de perdidas menores K = 11.8. Como el agua esta a 20$^o$C:\n",
    "> - $\\rho$ = 998.2 kg/m$^3$\n",
    "> - $\\mu$ = 1.005 X 10$^{-3}$\n",
    "\n",
    "> *Solucion:*\n",
    "\n",
    "> Siguiendo el diagrama de la figura 2, se tiene:"
   ]
  },
  {
   "cell_type": "code",
   "execution_count": 2,
   "id": "e4c7c670-41d7-41d0-836e-c8e6a429fcd7",
   "metadata": {},
   "outputs": [
    {
     "name": "stdout",
     "output_type": "stream",
     "text": [
      "{'US': 'IS', 'ks': 1.5e-06, 'rho': 998.2, 'mu': 0.001005, 'D': 0.293, 'zi': 0, 'zo': 0, 'L': 730, 'H': [43.5], 'K': [11.8]}\n",
      "43.5\n",
      "           hf         he         f         V        Dhf\n",
      "0   43.500000  18.928888  0.010884  5.610106 -18.928888\n",
      "1   24.571112  10.186516  0.011424  4.115488   8.742372\n",
      "2   33.313484  14.175892  0.011130  4.854938  -3.989376\n",
      "3   29.324108  12.343562  0.011252  4.530319   1.832330\n",
      "4   31.156438  13.182864  0.011193  4.681806  -0.839303\n",
      "5   30.317136  12.797921  0.011220  4.612944   0.384943\n",
      "6   30.702079  12.974371  0.011207  4.644636  -0.176450\n",
      "7   30.525629  12.893468  0.011213  4.630132   0.080903\n",
      "8   30.606532  12.930558  0.011210  4.636787  -0.037089\n",
      "9   30.569442  12.913553  0.011212  4.633737   0.017004\n",
      "10  30.586447  12.921349  0.011211  4.635135  -0.007796\n",
      "11  30.578651  12.917775  0.011211  4.634494   0.003574\n",
      "12  30.582225  12.919414  0.011211  4.634788  -0.001639\n",
      "13  30.580586  12.918662  0.011211  4.634654   0.000751\n",
      "14  30.581338  12.919007  0.011211  4.634715  -0.000344\n",
      "15  30.580993  12.918849  0.011211  4.634687   0.000158\n",
      "16  30.581151  12.918921  0.011211  4.634700  -0.000072\n",
      "17  30.581079  12.918888  0.011211  4.634694   0.000033\n",
      "18  30.581112  12.918903  0.011211  4.634697  -0.000015\n",
      "19  30.581097  12.918896  0.011211  4.634695   0.000007\n"
     ]
    }
   ],
   "source": [
    "%run simplePipes.py"
   ]
  },
  {
   "cell_type": "code",
   "execution_count": 3,
   "id": "47fbd701-a1e6-4458-adf9-4487b7150054",
   "metadata": {},
   "outputs": [
    {
     "name": "stdout",
     "output_type": "stream",
     "text": [
      "{'US': 'IS', 'ks': 1.5e-06, 'rho': 998.2, 'mu': 0.001005, 'D': 0.293, 'zi': 0, 'zo': 0, 'L': 730, 'H': [43.5], 'K': [11.8]}\n"
     ]
    }
   ],
   "source": [
    "print(data)"
   ]
  },
  {
   "cell_type": "code",
   "execution_count": 4,
   "id": "60f888ad-d47c-4ed1-871b-a4b047a4b492",
   "metadata": {},
   "outputs": [
    {
     "name": "stdout",
     "output_type": "stream",
     "text": [
      "4.634695481054373\n"
     ]
    }
   ],
   "source": [
    "print(Vi)"
   ]
  },
  {
   "cell_type": "code",
   "execution_count": null,
   "id": "05d7fbdb-78d5-4f19-8fa7-b94850df184b",
   "metadata": {},
   "outputs": [],
   "source": []
  }
 ],
 "metadata": {
  "kernelspec": {
   "display_name": "Python 3 (ipykernel)",
   "language": "python",
   "name": "python3"
  },
  "language_info": {
   "codemirror_mode": {
    "name": "ipython",
    "version": 3
   },
   "file_extension": ".py",
   "mimetype": "text/x-python",
   "name": "python",
   "nbconvert_exporter": "python",
   "pygments_lexer": "ipython3",
   "version": "3.10.6"
  }
 },
 "nbformat": 4,
 "nbformat_minor": 5
}
