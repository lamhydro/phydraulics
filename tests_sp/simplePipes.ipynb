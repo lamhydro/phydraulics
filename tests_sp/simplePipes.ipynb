{
 "cells": [
  {
   "cell_type": "markdown",
   "id": "65e81299-22fc-45f7-bc3c-5407d556349c",
   "metadata": {},
   "source": [
    "# Tuberías simples\n",
    "## Comprobación de diseño\n",
    "### **Ejemplo No.1**\n",
    "> Se desea calcular el caudal de agua que puede ser movido a traves de una tuberia de PVC de 12 pulg de diametro nominal y 730 m de longitud que conecta dos tanques de abastecimiento de agua potable con una diferencia de nivel de 43.5 m. El diametro real de la tuberia es de 293 mm y su rugosidad absoluta es de 1.5 x 10$^{-6}$ m. Todos los accesorios que forman parte del sistema, incluyendo la entrada y la salida, implican un coeficiente de perdidas menores K = 11.8. Como el agua esta a 20$^o$C:\n",
    "> - $\\rho$ = 998.2 kg/m$^3$\n",
    "> - $\\mu$ = 1.005 X 10$^{-3}$\n",
    "\n",
    "> *Solucion:*"
   ]
  },
  {
   "cell_type": "markdown",
   "id": "06132be4-2537-4b21-b037-8439a8766cb2",
   "metadata": {},
   "source": [
    "> Siguiendo el procedimiento descrito, se tiene:"
   ]
  },
  {
   "cell_type": "markdown",
   "id": "ce661e65-cb1a-434f-b1cd-32608fabf048",
   "metadata": {},
   "source": [
    "> La imformacion de entrada al programa es:"
   ]
  },
  {
   "cell_type": "code",
   "execution_count": 6,
   "id": "ee2467ed-071f-46e8-82c7-572dba3e408a",
   "metadata": {},
   "outputs": [
    {
     "data": {
      "text/plain": [
       "{'US': 'IS',\n",
       " 'IM': 'nr',\n",
       " 'ks': 1.5e-06,\n",
       " 'rho': 998.2,\n",
       " 'mu': 0.001005,\n",
       " 'nu': '',\n",
       " 'Q': '',\n",
       " 'Pu': {'P': '', 'h': '', 'ef': 1},\n",
       " 'Tu': {'P': '', 'h': '', 'ef': 1},\n",
       " 'D': 0.293,\n",
       " 'E1': {'z': 43.5, 'p': 0, 'v': 0},\n",
       " 'E2': {'z': 0, 'p': 0, 'v': 0},\n",
       " 'L': 730,\n",
       " 'K': [11.8]}"
      ]
     },
     "execution_count": 6,
     "metadata": {},
     "output_type": "execute_result"
    }
   ],
   "source": [
    "import json\n",
    "with open('designTest_js21.json', 'r') as f:\n",
    "    data = json.load(f)\n",
    "data"
   ]
  },
  {
   "cell_type": "code",
   "execution_count": 1,
   "id": "e4c7c670-41d7-41d0-836e-c8e6a429fcd7",
   "metadata": {
    "scrolled": true
   },
   "outputs": [
    {
     "name": "stdout",
     "output_type": "stream",
     "text": [
      "\n",
      "Proving the system design\n",
      "\n",
      "   Print iteration table for design test   \n",
      "          f         V         hf\n",
      "0  0.001000  7.727797   7.583465\n",
      "1  0.011181  4.639074  30.556683\n",
      "2  0.011210  4.634937  30.579755\n",
      "3  0.011211  4.634709  30.581027\n",
      "4  0.011211  4.634697  30.581097\n",
      "5  0.011211  4.634696  30.581101\n",
      "Q =   0.3125 m³/s\n",
      "V =   4.6347 m/s\n",
      "f =   0.0112\n",
      "hf =  30.5811 m\n",
      "he =  12.9189 m\n",
      "Flow regime = Turbulent\n"
     ]
    }
   ],
   "source": [
    "%run main.py designTest_js21.json"
   ]
  },
  {
   "cell_type": "markdown",
   "id": "24db084b-157c-4376-aa98-a588e5ca278b",
   "metadata": {},
   "source": [
    "### **Ejemplo No.2**\n",
    "> Una tuberia de acero de 15cm de diametro y rugosidad absoluta de 0.3 mm, conecta un tanque elevado con una piscina. El tanque produce una cabeza de 12 m por encima de la piscina, en donde el flujo sale como un chorro libre, es decir, a presion atmosferica. La longitud total de la tuberia es de 126 m y tiene un coeficiente global de perdidas menores de 9.6. Calcular el caudal que fluye por la tuberia.\n",
    "\n",
    "> $\\rho$ = 999.1 kg/m$^3$\n",
    "\n",
    "> $\\mu$ = 1.14 X 10$^{-3}$ Pa.s\n",
    " \n",
    "![alternatvie text](./figs/fjs23.jpeg)\n",
    "\n",
    "> *Solucion:*"
   ]
  },
  {
   "cell_type": "markdown",
   "id": "c92b62e9-250d-4be1-ab95-7dcdedf08bb0",
   "metadata": {},
   "source": [
    "> Siguiendo el procedimiento descrito, se tiene:"
   ]
  },
  {
   "cell_type": "markdown",
   "id": "7cc4327c-0baa-48ba-ac48-3de2cfbf99c8",
   "metadata": {},
   "source": [
    "> La imformacion de entrada al programa es:"
   ]
  },
  {
   "cell_type": "code",
   "execution_count": 1,
   "id": "c0e63ada-5df7-417d-a1c9-34c380a318fa",
   "metadata": {},
   "outputs": [
    {
     "data": {
      "text/plain": [
       "{'US': 'IS',\n",
       " 'IM': 'fp',\n",
       " 'ks': 0.0003,\n",
       " 'rho': 999.1,\n",
       " 'mu': 0.00114,\n",
       " 'nu': '',\n",
       " 'Q': '',\n",
       " 'Pu': {'P': '', 'h': '', 'ef': 1},\n",
       " 'Tu': {'P': '', 'h': '', 'ef': 1},\n",
       " 'D': 0.15,\n",
       " 'E1': {'z': 12, 'p': 0, 'v': 0},\n",
       " 'E2': {'z': 0, 'p': 0, 'v': 0},\n",
       " 'L': 126,\n",
       " 'K': [9.6]}"
      ]
     },
     "execution_count": 1,
     "metadata": {},
     "output_type": "execute_result"
    }
   ],
   "source": [
    "import json\n",
    "with open('designTest_js23.json', 'r') as f:\n",
    "    data = json.load(f)\n",
    "data"
   ]
  },
  {
   "cell_type": "code",
   "execution_count": 1,
   "id": "ee54885f-b1cf-424e-a6d6-dcc274e97f01",
   "metadata": {
    "scrolled": true
   },
   "outputs": [
    {
     "name": "stdout",
     "output_type": "stream",
     "text": [
      "\n",
      "Proving the system design\n",
      "\n",
      "   Print iteration table for design test   \n",
      "          f         V        hf\n",
      "0  0.010000  3.616628  5.600000\n",
      "1  0.024012  2.812238  8.130308\n",
      "2  0.023913  2.816145  8.119549\n",
      "Q =   0.0498 m³/s\n",
      "V =   2.8161 m/s\n",
      "f =   0.0239\n",
      "hf =   8.1195 m\n",
      "he =   3.8805 m\n",
      "Flow regime = Turbulent\n"
     ]
    }
   ],
   "source": [
    "%run main.py designTest_js23.json"
   ]
  },
  {
   "cell_type": "markdown",
   "id": "caeb46f5-c23b-4b82-b247-af944e1e2f64",
   "metadata": {},
   "source": [
    "## Calculo de la potencia requerida\n",
    "### **Ejemplo No.1**\n",
    "> En un sistema de riego localizado de alta frequencia para un cultivo de citricos es necesario mover un caudal de agua de 42 l/s desde el sitio de toma a la planta de fertirrigacion. Estos dos puntos se encuentran separados por una distancia de 970 m, estando la planta 16 m por encima de la toma. Si existe una tuberia de PVC (k$_s$ = 1.5x10$^{-6}$ m) de 6 pulgadas de diametro nominal, con un coeficiente global de perdidas menores de 9.4. ¿Cual debe ser la cabeza de energia suministrada por una bomba en el sitio de toma?\n",
    "> - $\\rho$ = 999.1 kg/m$^3$\n",
    "> - $\\nu$ = 1.14 X 10$^{-6}$ m$^2$/s\n",
    "\n",
    "> *Solucion:*"
   ]
  },
  {
   "cell_type": "markdown",
   "id": "ff270682-c354-4634-917f-5b8ca889a9be",
   "metadata": {},
   "source": [
    "> Siguiendo el procedimiento descrito, se tiene:"
   ]
  },
  {
   "cell_type": "markdown",
   "id": "56ea5f4b-00c9-49ec-80b2-09d29c897c49",
   "metadata": {},
   "source": [
    "> La imformacion de entrada al programa es:"
   ]
  },
  {
   "cell_type": "code",
   "execution_count": 1,
   "id": "b989d2a9-874c-4c57-bbf8-0dd5f0ec47c2",
   "metadata": {},
   "outputs": [
    {
     "data": {
      "text/plain": [
       "{'US': 'IS',\n",
       " 'IM': 'fp',\n",
       " 'ks': 1.5e-06,\n",
       " 'rho': 999.1,\n",
       " 'mu': '',\n",
       " 'nu': 1.14e-06,\n",
       " 'Q': 0.042,\n",
       " 'Pu': {'P': '', 'h': '', 'ef': 1},\n",
       " 'Tu': {'P': '', 'h': '', 'ef': 1},\n",
       " 'D': 0.1522,\n",
       " 'E1': {'z': 0.0, 'p': 0, 'v': 0},\n",
       " 'E2': {'z': 16.0, 'p': 0, 'v': 0},\n",
       " 'L': 970,\n",
       " 'K': [9.4]}"
      ]
     },
     "execution_count": 1,
     "metadata": {},
     "output_type": "execute_result"
    }
   ],
   "source": [
    "import json\n",
    "with open('systemPower_js22.json', 'r') as f:\n",
    "    data = json.load(f)\n",
    "data"
   ]
  },
  {
   "cell_type": "code",
   "execution_count": 2,
   "id": "d2131ad8-eb6c-4445-8ac0-4fa020537cec",
   "metadata": {
    "scrolled": true
   },
   "outputs": [
    {
     "name": "stdout",
     "output_type": "stream",
     "text": [
      "\n",
      "Estimating system power\n",
      "\n",
      "   Print iteration table for system power   \n",
      "          f            df\n",
      "0  0.000100  2.612143e-02\n",
      "1  0.026221 -1.254892e-02\n",
      "2  0.013673  9.080297e-04\n",
      "3  0.014581 -9.419312e-05\n",
      "4  0.014486  9.447609e-06\n",
      "5  0.014496 -9.508373e-07\n",
      "P = 17967.11 W\n",
      "V =   2.3085 m/s\n",
      "f = 0.014496\n",
      "hf =  25.0934 m\n",
      "he =   2.5532 m\n",
      "Hp =  43.6467 m\n",
      "Flow regime = Turbulent\n"
     ]
    }
   ],
   "source": [
    "%run main.py systemPower_js22.json"
   ]
  },
  {
   "cell_type": "markdown",
   "id": "9e9d7b39-e5ca-4bd5-8d8b-709670772c7f",
   "metadata": {},
   "source": [
    "### **Ejemplo No.2**\n",
    "> El sistema de toma de un acueducto municipal incluye una estacion de bombeo que envia el agua hacia un tanque desarenador localizado en la cima de una colina. El caudal demandado por la poblacion es de 460 l/s el cual es bombeado a traves de una tuberia de 14 pulgadas en acero (k$_s$ = 0.046 mm). La tuberia tiene una longitud total de 370 m y un coeficiente global de perdidas menores de 7.4. Calcule la potencia requerida en la bomba si su eficiencia es del 75%.\n",
    "> - $\\rho$ = 999.1 kg/m$^3$\n",
    "> - $\\nu$ = 1.14 X 10$^{-6}$ m$^2$/s\n",
    "\n",
    "![alternatvie text](./figs/fjs29.jpeg)\n",
    "\n",
    "> *Solucion:*"
   ]
  },
  {
   "cell_type": "markdown",
   "id": "16063887-3eaf-4dda-825f-1efb16fb2267",
   "metadata": {},
   "source": [
    "> Siguiendo el procedimiento descrito, se tiene:"
   ]
  },
  {
   "cell_type": "markdown",
   "id": "7d80fb99-9ede-4299-9373-a5819d22f00c",
   "metadata": {},
   "source": [
    "> La imformacion de entrada al programa es:"
   ]
  },
  {
   "cell_type": "code",
   "execution_count": 6,
   "id": "3f5459ec-e0a2-4f02-9339-2a2617ba6a69",
   "metadata": {},
   "outputs": [
    {
     "data": {
      "text/plain": [
       "{'US': 'IS',\n",
       " 'IM': 'fp',\n",
       " 'ks': 4.6e-05,\n",
       " 'rho': 999.1,\n",
       " 'mu': '',\n",
       " 'nu': 1.14e-06,\n",
       " 'Q': 0.46,\n",
       " 'Pu': {'P': '', 'h': '', 'ef': 0.75},\n",
       " 'Tu': {'P': '', 'h': '', 'ef': 1},\n",
       " 'D': 0.3556,\n",
       " 'E1': {'z': 0.0, 'p': 0, 'v': 0},\n",
       " 'E2': {'z': 15.0, 'p': 0, 'v': 0},\n",
       " 'L': 370,\n",
       " 'K': [7.4]}"
      ]
     },
     "execution_count": 6,
     "metadata": {},
     "output_type": "execute_result"
    }
   ],
   "source": [
    "import json\n",
    "with open('systemPower_js29.json', 'r') as f:\n",
    "    data = json.load(f)\n",
    "data"
   ]
  },
  {
   "cell_type": "code",
   "execution_count": 3,
   "id": "72d9d69f-4ace-4a6b-9ed1-62d1010a7099",
   "metadata": {
    "scrolled": true
   },
   "outputs": [
    {
     "name": "stdout",
     "output_type": "stream",
     "text": [
      "\n",
      "Estimating system power\n",
      "\n",
      "   Print iteration table for system power   \n",
      "          f            df\n",
      "0  0.000100  1.835556e-02\n",
      "1  0.018456 -5.066002e-03\n",
      "2  0.013390  1.234590e-04\n",
      "3  0.013513 -3.755329e-06\n",
      "4  0.013509  1.135214e-07\n",
      "P = 231203.40 W\n",
      "V =   4.6317 m/s\n",
      "f = 0.013509\n",
      "hf =  15.3696 m\n",
      "he =   8.0914 m\n",
      "Hp =  38.4609 m\n",
      "Flow regime = Turbulent\n"
     ]
    }
   ],
   "source": [
    "%run main.py systemPower_js29.json"
   ]
  },
  {
   "cell_type": "markdown",
   "id": "c3411f8f-bab3-4cbf-a94c-4e60b85850aa",
   "metadata": {},
   "source": [
    "## Diseno de tuberias\n",
    "### **Ejemplo No.1**\n",
    "> La tuberia de descarga de la planta de tratamiento de aguas residuales del municipio de Ubate tiene una longitud de 150 m desde su inicio hasta el sitio de entrega en el rio Suta y por ella debe pasar un caudal maximo de 120 l/s. La cabeza minima de operacion es 2.2 m y en la tuberia se tienen perdidas menores por entrada (k$_m$ = 0.5) por un codo (k$_m$ = 0.8), por uniones ($\\sum k_m$ 10x0.1) y por salida (k$_m$ = 1). Calcular el diametro de la tuberia comercial en hierro galvanizado requerida si la temperatura del agua es 14 $^o$C. \n",
    "> - $\\rho$ = 999.3 kg/m$^3$\n",
    "\n",
    "> - $\\nu$ = 1.17 X 10$^{-6}$ m$^2$/s\n",
    "\n",
    "> *Solucion:*"
   ]
  },
  {
   "cell_type": "markdown",
   "id": "e1b37103-bed9-4bb3-a28b-84cc03f9e032",
   "metadata": {},
   "source": [
    "> Siguiendo el procedimiento descrito, se tiene:"
   ]
  },
  {
   "cell_type": "markdown",
   "id": "9a2469f9-933a-4f27-85b7-9832ea164c69",
   "metadata": {},
   "source": [
    "> La imformacion de entrada al programa es:"
   ]
  },
  {
   "cell_type": "code",
   "execution_count": 4,
   "id": "a63e36f5-add8-4695-a462-17a3931ceb38",
   "metadata": {},
   "outputs": [
    {
     "data": {
      "text/plain": [
       "{'US': 'IS',\n",
       " 'IM': 'fp',\n",
       " 'ks': 0.00015,\n",
       " 'rho': 999.3,\n",
       " 'mu': 0.00117,\n",
       " 'nu': '',\n",
       " 'Q': 0.12,\n",
       " 'Pu': {'P': '', 'h': '', 'ef': 1},\n",
       " 'Tu': {'P': '', 'h': '', 'ef': 1},\n",
       " 'D': '',\n",
       " 'E1': {'z': 2.2, 'p': 0, 'v': 0},\n",
       " 'E2': {'z': 0, 'p': 0, 'v': 0},\n",
       " 'L': 150,\n",
       " 'K': [0.5, 0.8, 1.0, 1.0]}"
      ]
     },
     "execution_count": 4,
     "metadata": {},
     "output_type": "execute_result"
    }
   ],
   "source": [
    "import json\n",
    "with open('pipeDesign_js23.json', 'r') as f:\n",
    "    data = json.load(f)\n",
    "data"
   ]
  },
  {
   "cell_type": "code",
   "execution_count": 5,
   "id": "5fe6bdcc-3c9e-41ac-b3d1-8679b5a010ff",
   "metadata": {
    "scrolled": true
   },
   "outputs": [
    {
     "name": "stdout",
     "output_type": "stream",
     "text": [
      "\n",
      "System design\n",
      "\n",
      "   Print iteration table for pipe design   \n",
      "     D(mm)         Q  Q>=Qd         f        he        hf\n",
      "0    23.63  0.000179  False  0.040311  0.028010  2.171990\n",
      "1    30.20  0.000347  False  0.036404  0.039432  2.160568\n",
      "2    38.14  0.000648  False  0.033230  0.054184  2.145816\n",
      "3    43.68  0.000931  False  0.031588  0.064951  2.135049\n",
      "4    54.58  0.001683  False  0.029167  0.086990  2.113010\n",
      "5    66.07  0.002787  False  0.027325  0.111115  2.088885\n",
      "6    80.42  0.004669  False  0.025625  0.142088  2.057912\n",
      "7   103.42  0.008993  False  0.023692  0.192761  2.007239\n",
      "8   152.22  0.024327  False  0.021163  0.300562  1.899438\n",
      "9   198.21  0.047521  False  0.019686  0.398944  1.801056\n",
      "10  247.09  0.082505  False  0.018582  0.497933  1.702067\n",
      "11  293.07  0.125814   True  0.017797  0.585074  1.614926\n",
      "D = 12 pulg\n",
      "Q =   0.1258 m/s\n",
      "f = 0.017797\n",
      "hf =   1.6149 m\n",
      "he =   0.5851 m\n",
      "Flow regime = Turbulent\n"
     ]
    }
   ],
   "source": [
    "%run main.py pipeDesign_js23.json"
   ]
  },
  {
   "cell_type": "markdown",
   "id": "ca6b9b42-ec8a-4ea2-ac61-3ee138c21764",
   "metadata": {},
   "source": [
    "### **Ejemplo No.2**\n",
    "> De acuerdo con el diseno agronomico de un sistema de riego localizado de alta frequencia, para un cultivo de mango es necesario transportar un caudal de 60 l/s entre la bocatoma, sobre una quebrada cercana a la finca, y la estacion de fertirrigacion. Con el fin de que el agua sea movida por gravedad, la bocatoma se localiza 890 m aguas arriba de la estacion generandose de esta forma una diferencia de niveles de 15.2 m entre estos dos puntos. ¿Que diametros en PVC y en hierro galvanizado se requieren? Las rugosidades absolutas de estos son: 0.0015 mm y 0.15 mm, respectivamente. La viscosidad cinematica del agua es 1.14 x 10$^{-6}$ m$^2$/s. Para ambos casos, el coeficiente global de perdidas menores es 11.9.\n",
    "\n",
    "> *Solucion:*"
   ]
  },
  {
   "cell_type": "markdown",
   "id": "c7787657-9500-408a-b9ed-cfc4f5537da2",
   "metadata": {},
   "source": [
    "> Siguiendo el procedimiento descrito, se tiene:"
   ]
  },
  {
   "cell_type": "markdown",
   "id": "d9ecc75e-cd15-4f1f-8a6d-e648bf6e4b09",
   "metadata": {},
   "source": [
    "> La imformacion de entrada al programa es:"
   ]
  },
  {
   "cell_type": "code",
   "execution_count": 6,
   "id": "76cecd6d-00df-48aa-be4e-b9d6770aa554",
   "metadata": {},
   "outputs": [
    {
     "data": {
      "text/plain": [
       "{'US': 'IS',\n",
       " 'IM': 'nr',\n",
       " 'ks': 0.00015,\n",
       " 'rho': 999.3,\n",
       " 'mu': '',\n",
       " 'nu': 1.14e-06,\n",
       " 'Q': 0.06,\n",
       " 'Pu': {'P': '', 'h': '', 'ef': 1},\n",
       " 'Tu': {'P': '', 'h': '', 'ef': 1},\n",
       " 'D': '',\n",
       " 'E1': {'z': 15.2, 'p': 0, 'v': 0},\n",
       " 'E2': {'z': 0, 'p': 0, 'v': 0},\n",
       " 'L': 890,\n",
       " 'K': [11.9]}"
      ]
     },
     "execution_count": 6,
     "metadata": {},
     "output_type": "execute_result"
    }
   ],
   "source": [
    "import json\n",
    "with open('pipeDesign_js25.json', 'r') as f:\n",
    "    data = json.load(f)\n",
    "data"
   ]
  },
  {
   "cell_type": "code",
   "execution_count": 7,
   "id": "eee96d85-80de-4d5b-b8a3-ad8ff6c0cf3d",
   "metadata": {
    "scrolled": true
   },
   "outputs": [
    {
     "name": "stdout",
     "output_type": "stream",
     "text": [
      "\n",
      "System design\n",
      "\n",
      "   Print iteration table for pipe design   \n",
      "     D(mm)         Q  Q>=Qd         f        he         hf\n",
      "0    23.63  0.000195  False  0.039645  0.120180  15.079820\n",
      "1    30.20  0.000378  False  0.035863  0.169237  15.030763\n",
      "2    38.14  0.000708  False  0.032783  0.232828  14.967172\n",
      "3    43.68  0.001017  False  0.031186  0.279422  14.920578\n",
      "4    54.58  0.001840  False  0.028827  0.375296  14.824704\n",
      "5    66.07  0.003053  False  0.027029  0.481063  14.718937\n",
      "6    80.42  0.005128  False  0.025365  0.618148  14.581852\n",
      "7   103.42  0.009919  False  0.023471  0.845690  14.354310\n",
      "8   152.22  0.027089  False  0.020984  1.343914  13.856086\n",
      "9   198.21  0.053397  False  0.019528  1.816359  13.383641\n",
      "10  247.09  0.093578   True  0.018436  2.309894  12.890106\n",
      "D = 10 pulg\n",
      "Q =   0.0936 m/s\n",
      "f = 0.018436\n",
      "hf =  12.8901 m\n",
      "he =   2.3099 m\n",
      "Flow regime = Turbulent\n"
     ]
    }
   ],
   "source": [
    "%run main.py pipeDesign_js25.json"
   ]
  },
  {
   "cell_type": "code",
   "execution_count": null,
   "id": "22af3548-14da-4285-a12c-61c091037b64",
   "metadata": {},
   "outputs": [],
   "source": []
  }
 ],
 "metadata": {
  "kernelspec": {
   "display_name": "Python 3 (ipykernel)",
   "language": "python",
   "name": "python3"
  },
  "language_info": {
   "codemirror_mode": {
    "name": "ipython",
    "version": 3
   },
   "file_extension": ".py",
   "mimetype": "text/x-python",
   "name": "python",
   "nbconvert_exporter": "python",
   "pygments_lexer": "ipython3",
   "version": "3.10.12"
  }
 },
 "nbformat": 4,
 "nbformat_minor": 5
}
