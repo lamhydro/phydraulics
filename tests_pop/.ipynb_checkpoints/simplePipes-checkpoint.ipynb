{
 "cells": [
  {
   "cell_type": "markdown",
   "id": "65e81299-22fc-45f7-bc3c-5407d556349c",
   "metadata": {},
   "source": [
    "# Tuberías simples\n",
    "## Comprobación de diseño\n",
    "### **Ejemplo No.1**\n",
    "> Se desea calcular el caudal de agua que puede ser movido a traves de una tuberia de PVC de 12 pulg de diametro nominal y 730 m de longitud que conecta dos tanques de abastecimiento de agua potable con una diferencia de nivel de 43.5 m. El diametro real de la tuberia es de 293 mm y su rugosidad absoluta es de 1.5 x 10$^{-6}$ m. Todos los accesorios que forman parte del sistema, incluyendo la entrada y la salida, implican un coeficiente de perdidas menores K = 11.8. Como el agua esta a 20$^o$C:\n",
    "> - $\\rho$ = 998.2 kg/m$^3$\n",
    "> - $\\mu$ = 1.005 X 10$^{-3}$\n",
    "\n",
    "> *Solucion:*"
   ]
  },
  {
   "cell_type": "markdown",
   "id": "06132be4-2537-4b21-b037-8439a8766cb2",
   "metadata": {},
   "source": [
    "> Siguiendo el procedimiento descrito, se tiene:"
   ]
  },
  {
   "cell_type": "markdown",
   "id": "ce661e65-cb1a-434f-b1cd-32608fabf048",
   "metadata": {},
   "source": [
    "> La imformacion de entrada al programa es:"
   ]
  },
  {
   "cell_type": "code",
   "execution_count": 7,
   "id": "ee2467ed-071f-46e8-82c7-572dba3e408a",
   "metadata": {},
   "outputs": [
    {
     "data": {
      "text/plain": [
       "{'US': 'IS',\n",
       " 'IM': 'fp',\n",
       " 'ks': 1.5e-06,\n",
       " 'rho': 998.2,\n",
       " 'mu': 0.001005,\n",
       " 'nu': '',\n",
       " 'Q': '',\n",
       " 'Pu': {'P': '', 'h': '', 'ef': 1},\n",
       " 'Tu': {'P': '', 'h': '', 'ef': 1},\n",
       " 'D': 0.293,\n",
       " 'E1': {'z': 43.5, 'p': 0, 'v': 0},\n",
       " 'E2': {'z': 0, 'p': 0, 'v': 0},\n",
       " 'L': 730,\n",
       " 'K': [11.8]}"
      ]
     },
     "execution_count": 7,
     "metadata": {},
     "output_type": "execute_result"
    }
   ],
   "source": [
    "import json\n",
    "with open('designTest_js21.json', 'r') as f:\n",
    "    data = json.load(f)\n",
    "data"
   ]
  },
  {
   "cell_type": "code",
   "execution_count": 8,
   "id": "e4c7c670-41d7-41d0-836e-c8e6a429fcd7",
   "metadata": {
    "scrolled": true
   },
   "outputs": [
    {
     "name": "stdout",
     "output_type": "stream",
     "text": [
      "\n",
      "Proving the system design\n",
      "\n",
      "   Print iteration table for design test   \n",
      "          f         V         hf\n",
      "0  0.001000  7.727797   7.583465\n",
      "1  0.012707  4.431561  31.688733\n",
      "2  0.011177  4.639631  30.553574\n",
      "3  0.011212  4.634571  30.581799\n",
      "Q =   0.3125 m³/s\n",
      "V =   4.6346 m/s\n",
      "f =   0.0112\n",
      "hf =  30.5818 m\n",
      "he =  12.9182 m\n",
      "Flow regime = Turbulent\n"
     ]
    }
   ],
   "source": [
    "%run main.py designTest_js21.json"
   ]
  },
  {
   "cell_type": "markdown",
   "id": "24db084b-157c-4376-aa98-a588e5ca278b",
   "metadata": {},
   "source": [
    "### **Ejemplo No.2**\n",
    "> Una tuberia de acero de 15cm de diametro y rugosidad absoluta de 0.3 mm, conecta un tanque elevado con una piscina. El tanque produce una cabeza de 12 m por encima de la piscina, en donde el flujo sale como un chorro libre, es decir, a presion atmosferica. La longitud total de la tuberia es de 126 m y tiene un coeficiente global de perdidas menores de 9.6. Calcular el caudal que fluye por la tuberia.\n",
    "\n",
    "> $\\rho$ = 999.1 kg/m$^3$\n",
    "> $\\mu$ = 1.14 X 10$^{-3}$ Pa.s\n",
    " \n",
    "![alternatvie text](./figs/fjs23.jpeg)\n",
    "\n",
    "> *Solucion:*"
   ]
  },
  {
   "cell_type": "markdown",
   "id": "c92b62e9-250d-4be1-ab95-7dcdedf08bb0",
   "metadata": {},
   "source": [
    "> Siguiendo el procedimiento descrito, se tiene:"
   ]
  },
  {
   "cell_type": "markdown",
   "id": "7cc4327c-0baa-48ba-ac48-3de2cfbf99c8",
   "metadata": {},
   "source": [
    "> La imformacion de entrada al programa es:"
   ]
  },
  {
   "cell_type": "code",
   "execution_count": 1,
   "id": "c0e63ada-5df7-417d-a1c9-34c380a318fa",
   "metadata": {},
   "outputs": [
    {
     "data": {
      "text/plain": [
       "{'US': 'IS',\n",
       " 'IM': 'fp',\n",
       " 'ks': 0.0003,\n",
       " 'rho': 999.1,\n",
       " 'mu': 0.00114,\n",
       " 'nu': '',\n",
       " 'Q': '',\n",
       " 'Pu': {'P': '', 'h': '', 'ef': 1},\n",
       " 'Tu': {'P': '', 'h': '', 'ef': 1},\n",
       " 'D': 0.15,\n",
       " 'E1': {'z': 12, 'p': 0, 'v': 0},\n",
       " 'E2': {'z': 0, 'p': 0, 'v': 0},\n",
       " 'L': 126,\n",
       " 'K': [9.6]}"
      ]
     },
     "execution_count": 1,
     "metadata": {},
     "output_type": "execute_result"
    }
   ],
   "source": [
    "import json\n",
    "with open('designTest_js23.json', 'r') as f:\n",
    "    data = json.load(f)\n",
    "data"
   ]
  },
  {
   "cell_type": "code",
   "execution_count": 3,
   "id": "ee54885f-b1cf-424e-a6d6-dcc274e97f01",
   "metadata": {
    "scrolled": true
   },
   "outputs": [
    {
     "name": "stdout",
     "output_type": "stream",
     "text": [
      "\n",
      "Proving the system design\n",
      "\n",
      "   Print iteration table for design test   \n",
      "          f         V        hf\n",
      "0  0.001000  4.748866  0.965517\n",
      "1  0.024793  2.781729  8.213814\n",
      "2  0.023911  2.816243  8.119280\n",
      "3  0.023914  2.816132  8.119585\n",
      "Q =   0.0498 m³/s\n",
      "V =   2.8161 m/s\n",
      "f =   0.0239\n",
      "hf =   8.1196 m\n",
      "he =   3.8804 m\n",
      "Flow regime = Turbulent\n"
     ]
    }
   ],
   "source": [
    "%run main.py designTest_js23.json"
   ]
  },
  {
   "cell_type": "markdown",
   "id": "caeb46f5-c23b-4b82-b247-af944e1e2f64",
   "metadata": {},
   "source": [
    "## C\\'alculo de la potencia requerida\n",
    "### **Ejemplo No.1**\n",
    "> En un sistema de riego localizado de alta frequencia para un cultivo de citricos es necesario mover un caudal de agua de 42 l/s desde el sitio de toma a la planta de fertirrigacion. Estos dos puntos se encuentran separados por una distancia de 970 m, estando la planta 16 m por encima de la toma. Si existe una tuberia de PVC (k$_s$ = 1.5x10$^{-6}$ m) de 6 pulgadas de diametro nominal, con un coeficiente global de perdidas menores de 9.4. ¿Cual debe ser la cabeza de energia suministrada por una bomba en el sitio de toma?\n",
    "> - $\\rho$ = 999.1 kg/m$^3$\n",
    "> - $\\nu$ = 1.14 X 10$^{-6}$ m$^2$/s\n",
    "\n",
    "> *Solucion:*"
   ]
  },
  {
   "cell_type": "markdown",
   "id": "ff270682-c354-4634-917f-5b8ca889a9be",
   "metadata": {},
   "source": [
    "> Siguiendo el procedimiento descrito, se tiene:"
   ]
  },
  {
   "cell_type": "markdown",
   "id": "56ea5f4b-00c9-49ec-80b2-09d29c897c49",
   "metadata": {},
   "source": [
    "> La imformacion de entrada al programa es:"
   ]
  },
  {
   "cell_type": "code",
   "execution_count": 4,
   "id": "b989d2a9-874c-4c57-bbf8-0dd5f0ec47c2",
   "metadata": {},
   "outputs": [
    {
     "data": {
      "text/plain": [
       "{'US': 'IS',\n",
       " 'IM': 'fp',\n",
       " 'ks': 1.5e-06,\n",
       " 'rho': 999.1,\n",
       " 'mu': '',\n",
       " 'nu': 1.14e-06,\n",
       " 'Q': 0.042,\n",
       " 'Pu': {'P': '', 'h': '', 'ef': 1},\n",
       " 'Tu': {'P': '', 'h': '', 'ef': 1},\n",
       " 'D': 0.1522,\n",
       " 'E1': {'z': 0.0, 'p': 0, 'v': 0},\n",
       " 'E2': {'z': 16.0, 'p': 0, 'v': 0},\n",
       " 'L': 970,\n",
       " 'K': [9.4]}"
      ]
     },
     "execution_count": 4,
     "metadata": {},
     "output_type": "execute_result"
    }
   ],
   "source": [
    "import json\n",
    "with open('systemPower_js22.json', 'r') as f:\n",
    "    data = json.load(f)\n",
    "data"
   ]
  },
  {
   "cell_type": "code",
   "execution_count": 5,
   "id": "d2131ad8-eb6c-4445-8ac0-4fa020537cec",
   "metadata": {
    "scrolled": true
   },
   "outputs": [
    {
     "name": "stdout",
     "output_type": "stream",
     "text": [
      "\n",
      "Estimating system power\n",
      "\n",
      "   Print iteration table for system power   \n",
      "          f            df\n",
      "0  0.001000  1.845517e-02\n",
      "1  0.019455 -5.378914e-03\n",
      "2  0.014076  4.615203e-04\n",
      "3  0.014538 -4.715385e-05\n",
      "4  0.014491  4.736870e-06\n",
      "5  0.014495 -4.766595e-07\n",
      "P = 17966.81 W\n",
      "V =   2.3085 m/s\n",
      "f = 0.014495\n",
      "hf =  25.0927 m\n",
      "he =   2.5532 m\n",
      "Hp =  43.6459 m\n",
      "Flow regime = Turbulent\n"
     ]
    }
   ],
   "source": [
    "%run main.py systemPower_js22.json"
   ]
  },
  {
   "cell_type": "markdown",
   "id": "9e9d7b39-e5ca-4bd5-8d8b-709670772c7f",
   "metadata": {},
   "source": [
    "### **Ejemplo No.2**\n",
    "> El sistema de toma de un acueducto municipal incluye una estacion de bombeo que envia el agua hacia un tanque desarenador localizado en la cima de una colina. El caudal demandado por la poblacion es de 460 l/s el cual es bombeado a traves de una tuberia de 14 pulgadas en acero (k$_s$ = 0.046 mm). La tuberia tiene una longitud total de 370 m y un coeficiente global de perdidas menores de 7.4. Calcule la potencia requerida en la bomba si su eficiencia es del 75%.\n",
    "> - $\\rho$ = 999.1 kg/m$^3$\n",
    "> - $\\nu$ = 1.14 X 10$^{-6}$ m$^2$/s\n",
    "\n",
    "> *Solucion:*"
   ]
  },
  {
   "cell_type": "markdown",
   "id": "16063887-3eaf-4dda-825f-1efb16fb2267",
   "metadata": {},
   "source": [
    "> Siguiendo el procedimiento descrito, se tiene:"
   ]
  },
  {
   "cell_type": "markdown",
   "id": "7d80fb99-9ede-4299-9373-a5819d22f00c",
   "metadata": {},
   "source": [
    "> La imformacion de entrada al programa es:"
   ]
  }
 ],
 "metadata": {
  "kernelspec": {
   "display_name": "Python 3 (ipykernel)",
   "language": "python",
   "name": "python3"
  },
  "language_info": {
   "codemirror_mode": {
    "name": "ipython",
    "version": 3
   },
   "file_extension": ".py",
   "mimetype": "text/x-python",
   "name": "python",
   "nbconvert_exporter": "python",
   "pygments_lexer": "ipython3",
   "version": "3.10.12"
  }
 },
 "nbformat": 4,
 "nbformat_minor": 5
}
