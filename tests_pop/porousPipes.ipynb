{
 "cells": [
  {
   "cell_type": "markdown",
   "id": "65e81299-22fc-45f7-bc3c-5407d556349c",
   "metadata": {},
   "source": [
    "# Tuberías porosas\n",
    "## Estimacion de la perdida de energia\n",
    "### **Ejemplo No.1**\n",
    "> Las mangueras exudantes de un sistema de riego localizado de alta frequencia tienen una longitud tipica de laterales de 60 m y un diametro de 1 pulg. La superficie de la manguera es de polietileno tejido de alta densidad, el cual tiene una rugosidad absoluta de 0.15 mm y deja salir un caudal de 1 l/min por cada metro de longitud. Calcular la perdida de cabeza causada por la friccion a lo largo de un lateral como el anteriormente descrito.\n",
    " \n",
    "> - $\\rho$ = 999.3 kg/m$^3$\n",
    "> - $\\nu$ = 1.17 X 10$^{-6}$ m$^2$/s\n",
    "\n",
    "> *Solucion:*"
   ]
  },
  {
   "cell_type": "markdown",
   "id": "06132be4-2537-4b21-b037-8439a8766cb2",
   "metadata": {},
   "source": [
    "> Siguiendo el procedimiento descrito, se tiene:"
   ]
  },
  {
   "cell_type": "markdown",
   "id": "ce661e65-cb1a-434f-b1cd-32608fabf048",
   "metadata": {},
   "source": [
    "> La imformacion de entrada al programa es:"
   ]
  },
  {
   "cell_type": "code",
   "execution_count": 1,
   "id": "ee2467ed-071f-46e8-82c7-572dba3e408a",
   "metadata": {},
   "outputs": [
    {
     "data": {
      "text/plain": [
       "{'US': 'IS',\n",
       " 'IM': 'nr',\n",
       " 'EL': 'CF',\n",
       " 'ks': 0.00015,\n",
       " 'rho': 999.3,\n",
       " 'mu': '',\n",
       " 'nu': 1.17e-06,\n",
       " 'q': 1.6667e-05,\n",
       " 'D': 0.0254,\n",
       " 'L': 60.0,\n",
       " 'tl': 5.0}"
      ]
     },
     "execution_count": 1,
     "metadata": {},
     "output_type": "execute_result"
    }
   ],
   "source": [
    "import json\n",
    "with open('energyLosses.json', 'r') as f:\n",
    "    data = json.load(f)\n",
    "data"
   ]
  },
  {
   "cell_type": "code",
   "execution_count": 2,
   "id": "e4c7c670-41d7-41d0-836e-c8e6a429fcd7",
   "metadata": {
    "scrolled": true
   },
   "outputs": [
    {
     "name": "stdout",
     "output_type": "stream",
     "text": [
      "\n",
      "Total energy loss in a porous pipe: Constant friction factor method\n",
      "\n",
      "f for turbulent section =   0.0438\n",
      "hf for turbulent section =   6.8532 m\n",
      "f for laminar section =   0.2401\n",
      "hf for laminar section =   0.0038 m\n",
      "Total energy loss =   6.8570 m\n"
     ]
    }
   ],
   "source": [
    "%run main.py energyLosses.json"
   ]
  },
  {
   "cell_type": "code",
   "execution_count": null,
   "id": "1c28a720-e143-429d-8a46-a3c28a98e4ac",
   "metadata": {},
   "outputs": [],
   "source": []
  }
 ],
 "metadata": {
  "kernelspec": {
   "display_name": "Python 3 (ipykernel)",
   "language": "python",
   "name": "python3"
  },
  "language_info": {
   "codemirror_mode": {
    "name": "ipython",
    "version": 3
   },
   "file_extension": ".py",
   "mimetype": "text/x-python",
   "name": "python",
   "nbconvert_exporter": "python",
   "pygments_lexer": "ipython3",
   "version": "3.10.12"
  }
 },
 "nbformat": 4,
 "nbformat_minor": 5
}
