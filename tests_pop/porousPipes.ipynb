{
 "cells": [
  {
   "cell_type": "markdown",
   "id": "65e81299-22fc-45f7-bc3c-5407d556349c",
   "metadata": {},
   "source": [
    "# Tuberías porosas\n",
    "## Estimacion de la perdida de energia\n",
    "### **Ejemplo No.1**\n",
    "> Las mangueras exudantes de un sistema de riego localizado de alta frequencia tienen una longitud tipica de laterales de 60 m y un diametro de 1 pulg. La superficie de la manguera es de polietileno tejido de alta densidad, el cual tiene una rugosidad absoluta de 0.15 mm y deja salir un caudal de 1 l/min por cada metro de longitud. Calcular la perdida de cabeza causada por la friccion a lo largo de un lateral como el anteriormente descrito.\n",
    " \n",
    "> - $\\rho$ = 999.3 kg/m$^3$\n",
    "> - $\\nu$ = 1.17 X 10$^{-6}$ m$^2$/s\n",
    "\n",
    "> *Solucion:*"
   ]
  },
  {
   "cell_type": "markdown",
   "id": "06132be4-2537-4b21-b037-8439a8766cb2",
   "metadata": {},
   "source": [
    "> Siguiendo el procedimiento descrito, se tiene:"
   ]
  },
  {
   "cell_type": "markdown",
   "id": "ce661e65-cb1a-434f-b1cd-32608fabf048",
   "metadata": {},
   "source": [
    "> La imformacion de entrada al programa es:"
   ]
  },
  {
   "cell_type": "code",
   "execution_count": 4,
   "id": "ee2467ed-071f-46e8-82c7-572dba3e408a",
   "metadata": {},
   "outputs": [
    {
     "data": {
      "text/plain": [
       "{'US': 'IS',\n",
       " 'IM': 'nr',\n",
       " 'EL': 'VF',\n",
       " 'ks': 0.00015,\n",
       " 'rho': 999.3,\n",
       " 'mu': '',\n",
       " 'nu': 1.17e-06,\n",
       " 'q': 1.6667e-05,\n",
       " 'D': 0.0254,\n",
       " 'L': 60.0,\n",
       " 'tl': 5.0}"
      ]
     },
     "execution_count": 4,
     "metadata": {},
     "output_type": "execute_result"
    }
   ],
   "source": [
    "import json\n",
    "with open('energyLosses.json', 'r') as f:\n",
    "    data = json.load(f)\n",
    "data"
   ]
  },
  {
   "cell_type": "code",
   "execution_count": 5,
   "id": "e4c7c670-41d7-41d0-836e-c8e6a429fcd7",
   "metadata": {
    "scrolled": true
   },
   "outputs": [
    {
     "name": "stdout",
     "output_type": "stream",
     "text": [
      "\n",
      "Total energy loss in a porous pipe: Variable friction factor method\n",
      "\n",
      "    Abscisa        fi      fi+1       hfi\n",
      "1       5.0  0.033842  0.034001  1.218213\n",
      "2      10.0  0.034001  0.034188  1.020868\n",
      "3      15.0  0.034188  0.034414  0.840884\n",
      "4      20.0  0.034414  0.034691  0.678265\n",
      "5      25.0  0.034691  0.035040  0.533016\n",
      "6      30.0  0.035040  0.035492  0.405148\n",
      "7      35.0  0.035492  0.036102  0.294673\n",
      "8      40.0  0.036102  0.036973  0.201617\n",
      "9      45.0  0.036973  0.038329  0.126019\n",
      "10     50.0  0.038329  0.040759  0.067965\n",
      "11     55.0  0.040759  0.046678  0.027683\n",
      "12     59.8  0.046678  0.448128  0.022380\n",
      "\n",
      "Total energy loss =   5.4367 m\n",
      "\n"
     ]
    }
   ],
   "source": [
    "%run main.py energyLosses.json"
   ]
  },
  {
   "cell_type": "code",
   "execution_count": null,
   "id": "1c28a720-e143-429d-8a46-a3c28a98e4ac",
   "metadata": {},
   "outputs": [],
   "source": []
  }
 ],
 "metadata": {
  "kernelspec": {
   "display_name": "Python 3 (ipykernel)",
   "language": "python",
   "name": "python3"
  },
  "language_info": {
   "codemirror_mode": {
    "name": "ipython",
    "version": 3
   },
   "file_extension": ".py",
   "mimetype": "text/x-python",
   "name": "python",
   "nbconvert_exporter": "python",
   "pygments_lexer": "ipython3",
   "version": "3.10.12"
  }
 },
 "nbformat": 4,
 "nbformat_minor": 5
}
