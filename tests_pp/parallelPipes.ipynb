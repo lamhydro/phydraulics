{
 "cells": [
  {
   "cell_type": "markdown",
   "id": "65e81299-22fc-45f7-bc3c-5407d556349c",
   "metadata": {},
   "source": [
    "# Tuberías en paralelo\n",
    "## Comprobación de diseño\n",
    "### **Ejemplo No.1**\n",
    "> En la red matriz del sistema de acueducto del municipio de Santa Marta, Colombia, existen dos tuberias que unen la planta de tratamiento de Mamatoco y el tanque de las Tres Cruces. Las dos tuberias tienen una longitud de 627 m y un coeficiente global de perdidas menores de 10.6. Una de ellas tiene un diametro de 8 pulg en PVC ($k_s = $0.0015 mm) y la otra tiene un diametro de 12 pulg y esta fabricada en asbesto-cemento ($k_s =$0.03 mm). La diferencia de cabeza entre los nodos de aguas arriba y aguas abajo es de 26.4 m. El agua se encuentra a 20 $^o$C. Calcular el caudal total.\n",
    "\n",
    "> - $\\rho =$ 998.2 kg/m$^3$ \n",
    "> - $\\mu =$ 1.005x10$^{-3}$ Pa.s \n",
    "\n",
    "> *Solucion:*"
   ]
  },
  {
   "cell_type": "markdown",
   "id": "06132be4-2537-4b21-b037-8439a8766cb2",
   "metadata": {},
   "source": [
    "> Siguiendo el procedimiento descrito, se tiene:"
   ]
  },
  {
   "cell_type": "markdown",
   "id": "ce661e65-cb1a-434f-b1cd-32608fabf048",
   "metadata": {},
   "source": [
    "> La imformacion de entrada al programa es:"
   ]
  },
  {
   "cell_type": "code",
   "execution_count": 1,
   "id": "ee2467ed-071f-46e8-82c7-572dba3e408a",
   "metadata": {},
   "outputs": [
    {
     "data": {
      "text/plain": [
       "{'PT': 1,\n",
       " 'US': 'IS',\n",
       " 'IM': 'nr',\n",
       " 'rho': 998.2,\n",
       " 'mu': 0.001005,\n",
       " 'nu': '',\n",
       " 'E1': {'z': 26.4, 'p': 0, 'v': 0},\n",
       " 'E2': {'z': 0, 'p': 0, 'v': 0},\n",
       " 'Q': '',\n",
       " 'Pu': {'P': '', 'h': '', 'ef': 1},\n",
       " 'P1': {'Q': '',\n",
       "  'Tu': {'P': '', 'h': '', 'ef': 1},\n",
       "  'D': 0.2032,\n",
       "  'L': 627,\n",
       "  'ks': 1.5e-06,\n",
       "  'K': [10.6]},\n",
       " 'P2': {'Q': '',\n",
       "  'Tu': {'P': '', 'h': '', 'ef': 1},\n",
       "  'D': 0.3048,\n",
       "  'L': 627,\n",
       "  'ks': 3e-05,\n",
       "  'K': [10.6]}}"
      ]
     },
     "execution_count": 1,
     "metadata": {},
     "output_type": "execute_result"
    }
   ],
   "source": [
    "import json\n",
    "with open('designTest_js55.json', 'r') as f:\n",
    "    data = json.load(f)\n",
    "data"
   ]
  },
  {
   "cell_type": "code",
   "execution_count": 2,
   "id": "e4c7c670-41d7-41d0-836e-c8e6a429fcd7",
   "metadata": {
    "scrolled": true
   },
   "outputs": [
    {
     "name": "stdout",
     "output_type": "stream",
     "text": [
      "\n",
      "Proving the design of a parallel pipe system\n",
      "\n",
      " \n",
      "Results of iteration for pipe 1\n",
      " \n",
      "          f         V         hf\n",
      "1  0.000100  6.890769   0.746759\n",
      "2  0.014637  3.047730  21.381663\n",
      "3  0.012804  3.215086  20.815399\n",
      "4  0.012684  3.227066  20.773704\n",
      "5  0.012676  3.227868  20.770909\n",
      "6  0.012675  3.227921  20.770723\n",
      "7  0.012675  3.227924  20.770711\n",
      " \n",
      "Results of iteration for pipe 2\n",
      " \n",
      "          f         V         hf\n",
      "1  0.000100  6.923486   0.502578\n",
      "2  0.014444  3.584567  19.458070\n",
      "3  0.013327  3.691293  19.038540\n",
      "4  0.013294  3.694530  19.025625\n",
      "5  0.013293  3.694625  19.025247\n",
      "6  0.013293  3.694627  19.025235\n",
      " \n",
      "Summary of results\n",
      " \n",
      "           hf         V         Q        he         f            Re\n",
      "P1  20.770711  3.227924  0.104679  5.629289  0.012675  6.514762e+05\n",
      "P2  19.025235  3.694627  0.269582  7.374765  0.013293  1.118503e+06\n",
      "Qt =   0.3743 m³/s\n"
     ]
    }
   ],
   "source": [
    "%run main.py designTest_js55.json"
   ]
  },
  {
   "cell_type": "markdown",
   "id": "24db084b-157c-4376-aa98-a588e5ca278b",
   "metadata": {},
   "source": [
    "### **Ejemplo No.2**\n",
    "> Calcule el caudal total que fluye por el sistema en paralelo mostrado en la figura. La presion en el nodo de entrada es de 530 kPa y en el nodo de salida es de 130 kPa, ambas manometricas. Las tuberias son de acero comercial ($k_s$ = 0.046 mm)\n",
    "\n",
    "> $\\rho$ = 999.1 kg/m$^3$\n",
    "\n",
    "> $\\mu$ = 1.14 X 10$^{-3}$ Pa.s\n",
    " \n",
    "![alternatvie text](./figs/fjs513.jpeg)\n",
    "\n",
    "> *Solucion:*"
   ]
  },
  {
   "cell_type": "markdown",
   "id": "c92b62e9-250d-4be1-ab95-7dcdedf08bb0",
   "metadata": {},
   "source": [
    "> Siguiendo el procedimiento descrito, se tiene:"
   ]
  },
  {
   "cell_type": "markdown",
   "id": "7cc4327c-0baa-48ba-ac48-3de2cfbf99c8",
   "metadata": {},
   "source": [
    "> La imformacion de entrada al programa es:"
   ]
  },
  {
   "cell_type": "code",
   "execution_count": 3,
   "id": "c0e63ada-5df7-417d-a1c9-34c380a318fa",
   "metadata": {},
   "outputs": [
    {
     "data": {
      "text/plain": [
       "{'PT': 1,\n",
       " 'US': 'IS',\n",
       " 'IM': 'nr',\n",
       " 'rho': 999.1,\n",
       " 'mu': 0.00114,\n",
       " 'nu': '',\n",
       " 'E1': {'z': 0, 'p': 54.0265, 'v': 0},\n",
       " 'E2': {'z': 0, 'p': 13.2518, 'v': 0},\n",
       " 'Q': '',\n",
       " 'Pu': {'P': '', 'h': '', 'ef': 1},\n",
       " 'P1': {'Q': '',\n",
       "  'Tu': {'P': '', 'h': '', 'ef': 1},\n",
       "  'D': 0.1524,\n",
       "  'L': 278,\n",
       "  'ks': 4.6e-05,\n",
       "  'K': [7.4]},\n",
       " 'P2': {'Q': '',\n",
       "  'Tu': {'P': '', 'h': '', 'ef': 1},\n",
       "  'D': 0.2031,\n",
       "  'L': 230,\n",
       "  'ks': 4.6e-05,\n",
       "  'K': [6.1]},\n",
       " 'P3': {'Q': '',\n",
       "  'Tu': {'P': '', 'h': '', 'ef': 1},\n",
       "  'D': 0.1524,\n",
       "  'L': 278,\n",
       "  'ks': 4.6e-05,\n",
       "  'K': [7.4]}}"
      ]
     },
     "execution_count": 3,
     "metadata": {},
     "output_type": "execute_result"
    }
   ],
   "source": [
    "import json\n",
    "with open('designTest_js513.json', 'r') as f:\n",
    "    data = json.load(f)\n",
    "data"
   ]
  },
  {
   "cell_type": "code",
   "execution_count": 4,
   "id": "ee54885f-b1cf-424e-a6d6-dcc274e97f01",
   "metadata": {
    "scrolled": true
   },
   "outputs": [
    {
     "name": "stdout",
     "output_type": "stream",
     "text": [
      "\n",
      "Proving the design of a parallel pipe system\n",
      "\n",
      " \n",
      "Results of iteration for pipe 1\n",
      " \n",
      "          f          V         hf\n",
      "1  0.000100  10.271672   0.980941\n",
      "2  0.016825   4.582825  32.853347\n",
      "3  0.016077   4.667192  32.559010\n",
      "4  0.016059   4.669248  32.551769\n",
      "5  0.016059   4.669297  32.551596\n",
      "6  0.016059   4.669299  32.551592\n",
      " \n",
      "Results of iteration for pipe 2\n",
      " \n",
      "          f          V         hf\n",
      "1  0.000100  11.347120   0.743174\n",
      "2  0.015630   5.797719  30.324007\n",
      "3  0.014938   5.895516  29.968464\n",
      "4  0.014926   5.897351  29.961735\n",
      "5  0.014925   5.897385  29.961611\n",
      "6  0.014925   5.897385  29.961609\n",
      " \n",
      "Results of iteration for pipe 3\n",
      " \n",
      "          f          V         hf\n",
      "1  0.000100  10.271672   0.980941\n",
      "2  0.016825   4.582825  32.853347\n",
      "3  0.016077   4.667192  32.559010\n",
      "4  0.016059   4.669248  32.551769\n",
      "5  0.016059   4.669297  32.551596\n",
      "6  0.016059   4.669299  32.551592\n",
      " \n",
      "Summary of results\n",
      " \n",
      "           hf         V         Q         he         f            Re\n",
      "P1  32.551592  4.669299  0.085175   8.223108  0.016059  6.236497e+05\n",
      "P2  29.961609  5.897385  0.191060  10.813091  0.014925  1.049720e+06\n",
      "P3  32.551592  4.669299  0.085175   8.223108  0.016059  6.236497e+05\n",
      "Qt =   0.3614 m³/s\n"
     ]
    }
   ],
   "source": [
    "%run main.py designTest_js513.json"
   ]
  },
  {
   "cell_type": "markdown",
   "id": "caeb46f5-c23b-4b82-b247-af944e1e2f64",
   "metadata": {},
   "source": [
    "## Calculo de la potencia requerida\n",
    "### **Ejemplo No.1**\n",
    "> Con el fin de disminuir la vulnerabilidad del cruce subacuatico de un oleoducto al atravesar un rio, se decide colocar dos tuberias en paralelo a la existente. Las tres tuberias estan elaboradas en acero ($k_s = $ 0.046 mm). La que existia originalmente tiene una longitud de 278 m, un diametro de 18 pulg y un coeficiente global de perdidas menores de 7.7. Las dos tuberias nuevas tienen una longitud 312 m, un diametro de 12 pulg y un coeficiente global de perdidas menores de 9.4. La presion en el nodo de aguas arriba es de 875 kPa y el caudal total es de 460 l/s. Calcular el caudal que transporta cada tuberia y la perdida de cabeza. Las caracteristicas fisicas del crudo transportado por las tuberias es:\n",
    "\n",
    "> - $\\rho$ = 860 kg/m$^3$\n",
    "\n",
    "> - $\\mu$ = 7.19 X 10$^{-3}$ Pa.s\n",
    "\n",
    "> *Solucion:*"
   ]
  },
  {
   "cell_type": "markdown",
   "id": "ff270682-c354-4634-917f-5b8ca889a9be",
   "metadata": {},
   "source": [
    "> Siguiendo el procedimiento descrito, se tiene:"
   ]
  },
  {
   "cell_type": "markdown",
   "id": "56ea5f4b-00c9-49ec-80b2-09d29c897c49",
   "metadata": {},
   "source": [
    "> La imformacion de entrada al programa es:"
   ]
  },
  {
   "cell_type": "code",
   "execution_count": 5,
   "id": "b989d2a9-874c-4c57-bbf8-0dd5f0ec47c2",
   "metadata": {},
   "outputs": [
    {
     "data": {
      "text/plain": [
       "{'PT': 2,\n",
       " 'US': 'IS',\n",
       " 'IM': 'nr',\n",
       " 'rho': 860.0,\n",
       " 'mu': 0.00719,\n",
       " 'nu': '',\n",
       " 'E1': {'z': 0, 'p': 103.7148, 'v': 0},\n",
       " 'E2': {'z': 0, 'p': '', 'v': 0},\n",
       " 'Q': 0.46,\n",
       " 'Pu': {'P': '', 'h': '', 'ef': 1},\n",
       " 'P1': {'Q': '',\n",
       "  'Tu': {'P': '', 'h': '', 'ef': 1},\n",
       "  'D': 0.4572,\n",
       "  'L': 278,\n",
       "  'ks': 4.6e-05,\n",
       "  'K': [7.7]},\n",
       " 'P2': {'Q': '',\n",
       "  'Tu': {'P': '', 'h': '', 'ef': 1},\n",
       "  'D': 0.3048,\n",
       "  'L': 312,\n",
       "  'ks': 4.6e-05,\n",
       "  'K': [9.4]},\n",
       " 'P3': {'Q': '',\n",
       "  'Tu': {'P': '', 'h': '', 'ef': 1},\n",
       "  'D': 0.3048,\n",
       "  'L': 312,\n",
       "  'ks': 4.6e-05,\n",
       "  'K': [9.4]}}"
      ]
     },
     "execution_count": 5,
     "metadata": {},
     "output_type": "execute_result"
    }
   ],
   "source": [
    "import json\n",
    "with open('systemPower_js56.json', 'r') as f:\n",
    "    data = json.load(f)\n",
    "data"
   ]
  },
  {
   "cell_type": "code",
   "execution_count": 6,
   "id": "d2131ad8-eb6c-4445-8ac0-4fa020537cec",
   "metadata": {
    "scrolled": true
   },
   "outputs": [
    {
     "name": "stdout",
     "output_type": "stream",
     "text": [
      "\n",
      "Estimating the power in parallel pipes\n",
      "\n",
      "Results of iteration 1\n",
      "\n",
      "          hf         V         Q        he         f            Re\n",
      "P1  1.615313  1.662772  0.272983  1.085068  0.018852  90930.266584\n",
      "P2  1.896857  1.295046  0.094494  0.803524  0.021678  47213.872301\n",
      "P3  1.896857  1.295046  0.094494  0.803524  0.021678  47213.872301\n",
      "\n",
      "Results of iteration 2\n",
      "\n",
      "          hf         V         Q        he         f            Re\n",
      "P1  1.602862  1.655678  0.271818  1.075830  0.018867  90542.328624\n",
      "P2  1.882123  1.289428  0.094084  0.796569  0.021698  47009.076066\n",
      "P3  1.882123  1.289428  0.094084  0.796569  0.021698  47009.076066\n",
      "\n",
      "Results of iteration 3\n",
      "\n",
      "          hf         V         Q        he         f            Re\n",
      "P1  1.602947  1.655727  0.271826  1.075893  0.018867  90544.981148\n",
      "P2  1.882223  1.289467  0.094087  0.796616  0.021698  47010.476318\n",
      "P3  1.882223  1.289467  0.094087  0.796616  0.021698  47010.476318\n",
      "\n",
      "Pressure head in node 2 =   101.04 (m)\n",
      "Pressure in node 2 = 852399.98 (Pa)\n"
     ]
    }
   ],
   "source": [
    "%run main.py systemPower_js56.json"
   ]
  },
  {
   "cell_type": "markdown",
   "id": "9e9d7b39-e5ca-4bd5-8d8b-709670772c7f",
   "metadata": {},
   "source": [
    "### **Ejemplo No.2**\n",
    "> En la red matriz del sistema de distribucion de agua potable del acueducto de Pereira, Colombia, se tiene el sistema en paralelo que se muestra en la figura. El caudal total que debe pasar por este es de 254.3 l/s y la presion en el nodo inicial es de 343 kPa. El material de ambas tuberias es asbesto-cemento. Determinar la presion en el nodo final y los caudales transportados por cada tuberia. \n",
    "\n",
    "> - $\\rho$ = 999.1 kg/m$^3$\n",
    "> - $\\nu$ = 1.141 X 10$^{-6}$ m$^2$/s\n",
    "\n",
    "![alternatvie text](./figs/fjs516.jpeg)\n",
    "\n",
    "> *Solucion:*"
   ]
  },
  {
   "cell_type": "markdown",
   "id": "16063887-3eaf-4dda-825f-1efb16fb2267",
   "metadata": {},
   "source": [
    "> Siguiendo el procedimiento descrito, se tiene:"
   ]
  },
  {
   "cell_type": "markdown",
   "id": "7d80fb99-9ede-4299-9373-a5819d22f00c",
   "metadata": {},
   "source": [
    "> La imformacion de entrada al programa es:"
   ]
  },
  {
   "cell_type": "code",
   "execution_count": 1,
   "id": "3f5459ec-e0a2-4f02-9339-2a2617ba6a69",
   "metadata": {},
   "outputs": [
    {
     "data": {
      "text/plain": [
       "{'PT': 2,\n",
       " 'US': 'IS',\n",
       " 'IM': 'nr',\n",
       " 'rho': 999.1,\n",
       " 'mu': '',\n",
       " 'nu': 1.141e-06,\n",
       " 'E1': {'z': 0, 'p': 34.9643, 'v': 0},\n",
       " 'E2': {'z': 0, 'p': '', 'v': 0},\n",
       " 'Q': 0.2543,\n",
       " 'Pu': {'P': '', 'h': '', 'ef': 1},\n",
       " 'P1': {'Q': '',\n",
       "  'Tu': {'P': '', 'h': '', 'ef': 1},\n",
       "  'D': 0.254,\n",
       "  'L': 263,\n",
       "  'ks': 3e-05,\n",
       "  'K': [7.6]},\n",
       " 'P2': {'Q': '',\n",
       "  'Tu': {'P': '', 'h': '', 'ef': 1},\n",
       "  'D': 0.3048,\n",
       "  'L': 277,\n",
       "  'ks': 3e-05,\n",
       "  'K': [7.4]}}"
      ]
     },
     "execution_count": 1,
     "metadata": {},
     "output_type": "execute_result"
    }
   ],
   "source": [
    "import json\n",
    "with open('systemPower_js516.json', 'r') as f:\n",
    "    data = json.load(f)\n",
    "data"
   ]
  },
  {
   "cell_type": "code",
   "execution_count": 2,
   "id": "72d9d69f-4ace-4a6b-9ed1-62d1010a7099",
   "metadata": {
    "scrolled": true
   },
   "outputs": [
    {
     "name": "stdout",
     "output_type": "stream",
     "text": [
      "\n",
      "Estimating the power in parallel pipes\n",
      "\n",
      "Results of iteration 1\n",
      "\n",
      "          hf         V         Q        he         f             Re\n",
      "P1  3.065256  1.978145  0.100234  1.515761  0.014843  440358.321342\n",
      "P2  2.912786  2.103109  0.153455  1.668231  0.014217  561812.008688\n",
      "\n",
      "Results of iteration 2\n",
      "\n",
      "          hf         V         Q        he         f             Re\n",
      "P1  3.079156  1.982907  0.100475  1.523069  0.014839  441418.466678\n",
      "P2  2.925980  2.108154  0.153823  1.676245  0.014213  563159.932053\n",
      "\n",
      "Results of iteration 3\n",
      "\n",
      "          hf         V         Q        he         f             Re\n",
      "P1  3.079185  1.982917  0.100476  1.523084  0.014839  441420.655707\n",
      "P2  2.926007  2.108165  0.153824  1.676262  0.014213  563162.715290\n",
      "\n",
      "Pressure head in node 2 =    30.36 (m)\n",
      "Pressure in node 2 = 297583.46 (Pa)\n"
     ]
    }
   ],
   "source": [
    "%run main.py systemPower_js516.json"
   ]
  },
  {
   "cell_type": "markdown",
   "id": "c3411f8f-bab3-4cbf-a94c-4e60b85850aa",
   "metadata": {},
   "source": [
    "## Diseno de tuberias\n",
    "### **Ejemplo No.1**\n",
    "> En la planta de tratamiento de aguas residuales del municipio de Ubate, la tuberia de descarga al rio Suta tiene un diametro de 12 pulg, esta elaborada en hierro galvanizado ($k_s = $0.15 mm), tiene una longitud de 150 m y un coeficiente global de perdidas menores de 3.3. La cabeza en el nodo de entrada es de 2.7 m y la del nodo de salida es 0.5 m. Bajo estas condiciones el caudal maximo que puede fluir por la tuberia es de 138.5 l/s. Por razones de crecimiento de la industria lechera del municipio, el caudal total que debe ser tratado aumenta a 224.2 l/s. Determinar el diametro para una tuberia paralela a la primera si el material disponible es PVC, y la nueva presion en el nodo de salida. La longitud y el coeficiente global de perdidas menores de la nueva tuberia es igual al de la tuberia existente. La temperature media del agua es de 14 $^o$C.  \n",
    "\n",
    "> - $\\rho$ = 999.1 kg/m$^3$\n",
    "\n",
    "> - $\\nu$ = 1.17 X 10$^{-6}$ m$^2$/s\n",
    "\n",
    "> *Solucion:*"
   ]
  },
  {
   "cell_type": "markdown",
   "id": "e1b37103-bed9-4bb3-a28b-84cc03f9e032",
   "metadata": {},
   "source": [
    "> Siguiendo el procedimiento descrito, se tiene:"
   ]
  },
  {
   "cell_type": "markdown",
   "id": "9a2469f9-933a-4f27-85b7-9832ea164c69",
   "metadata": {},
   "source": [
    "> La imformacion de entrada al programa es:"
   ]
  },
  {
   "cell_type": "code",
   "execution_count": 3,
   "id": "a63e36f5-add8-4695-a462-17a3931ceb38",
   "metadata": {},
   "outputs": [
    {
     "data": {
      "text/plain": [
       "{'PT': 3,\n",
       " 'US': 'IS',\n",
       " 'IM': 'nr',\n",
       " 'rho': 999.1,\n",
       " 'mu': '',\n",
       " 'nu': 1.17e-06,\n",
       " 'E1': {'z': 0, 'p': 2.7, 'v': 0},\n",
       " 'E2': {'z': 0, 'p': 0.5, 'v': 0},\n",
       " 'Q': 0.2242,\n",
       " 'Pu': {'P': '', 'h': '', 'ef': 1},\n",
       " 'P1': {'Q': 0.1385,\n",
       "  'Tu': {'P': '', 'h': '', 'ef': 1},\n",
       "  'D': 0.3048,\n",
       "  'L': 150,\n",
       "  'ks': 0.00015,\n",
       "  'K': [3.3]},\n",
       " 'P2': {'Q': 0.0857,\n",
       "  'Tu': {'P': '', 'h': '', 'ef': 1},\n",
       "  'D': '',\n",
       "  'L': 150,\n",
       "  'ks': 1.5e-06,\n",
       "  'K': [3.3]}}"
      ]
     },
     "execution_count": 3,
     "metadata": {},
     "output_type": "execute_result"
    }
   ],
   "source": [
    "import json\n",
    "with open('pipeDesign_js57.json', 'r') as f:\n",
    "    data = json.load(f)\n",
    "data"
   ]
  },
  {
   "cell_type": "code",
   "execution_count": 4,
   "id": "5fe6bdcc-3c9e-41ac-b3d1-8679b5a010ff",
   "metadata": {
    "scrolled": true
   },
   "outputs": [
    {
     "name": "stdout",
     "output_type": "stream",
     "text": [
      "\n",
      "Design of a parallel pipe system\n",
      "\n",
      "Design of pipe 2\n",
      " \n",
      "        D\"        hf         V         Q        he         f\n",
      "Iter 1   4  1.955812  1.204910  0.009769  0.244188  0.017903\n",
      "Iter 2   6  1.814047  1.514816  0.027632  0.385953  0.015759\n",
      "Iter 3   8  1.681489  1.755786  0.056939  0.518511  0.014497\n",
      "Iter 4  10  1.560696  1.949603  0.098788  0.639304  0.013642\n",
      "\n",
      "Results of iteration 1\n",
      "\n",
      "          hf         V         Q        he         f\n",
      "P1  1.258134  1.681697  0.122706  0.475675  0.017736\n",
      "P2  1.238137  1.716681  0.086986  0.495672  0.013958\n",
      "\n",
      "Results of iteration 2\n",
      "\n",
      "          hf         V         Q        he         f\n",
      "P1  1.424554  1.792537  0.130794  0.540444  0.017675\n",
      "P2  1.398365  1.835453  0.093004  0.566633  0.013790\n",
      "\n",
      "Results of iteration 3\n",
      "\n",
      "          hf         V         Q        he         f\n",
      "P1  1.429314  1.795610  0.131018  0.542299  0.017674\n",
      "P2  1.402942  1.838752  0.093171  0.568671  0.013786\n",
      "\n",
      "Results of iteration 4\n",
      "\n",
      "          hf         V         Q        he         f\n",
      "P1  1.429443  1.795692  0.131024  0.542349  0.017674\n",
      "P2  1.403065  1.838841  0.093175  0.568726  0.013786\n",
      "\n",
      "Energy head at node 2 =   0.7282 (m)\n"
     ]
    }
   ],
   "source": [
    "%run main.py pipeDesign_js57.json"
   ]
  },
  {
   "cell_type": "markdown",
   "id": "ca6b9b42-ec8a-4ea2-ac61-3ee138c21764",
   "metadata": {},
   "source": [
    "### **Ejemplo No.2**\n",
    "> En el subsistema de distribucion de agua potable del acueducto de Pereira, Colombia, que parte del tanque Matecaña se tiene una tuberia con las caracteristicas mostradas en la figura. El caudal maximo que puede fluir por esta tuberia es 239.4 l/s. La presion en el nodo de entrada equivale a 25.3 m de agua y la del nodo final es de 17.6 m de agua. Si se quiere que el caudal aumente a 390 l/s, ¿cual debera ser el diametro de la nueva tuberia si su longitud y coeficiente global de perdidas menores son iguales a la de la tuberia original y el material es PVC? ¿Cuales son los caudales finales en cada una de las tuberias? ¿Cual es la cabeza final en el nodo 2?  \n",
    "\n",
    "> - $\\rho$ = 999.1 kg/m$^3$\n",
    "\n",
    "> - $\\nu$ = 1.141 X 10$^{-6}$ m$^2$/s\n",
    "\n",
    "\n",
    "![alternatvie text](./figs/fjs519.jpeg)\n",
    "\n",
    "> *Solucion:*"
   ]
  },
  {
   "cell_type": "markdown",
   "id": "c7787657-9500-408a-b9ed-cfc4f5537da2",
   "metadata": {},
   "source": [
    "> Siguiendo el procedimiento descrito, se tiene:"
   ]
  },
  {
   "cell_type": "markdown",
   "id": "d9ecc75e-cd15-4f1f-8a6d-e648bf6e4b09",
   "metadata": {},
   "source": [
    "> La imformacion de entrada al programa es:"
   ]
  },
  {
   "cell_type": "code",
   "execution_count": 1,
   "id": "76cecd6d-00df-48aa-be4e-b9d6770aa554",
   "metadata": {},
   "outputs": [
    {
     "data": {
      "text/plain": [
       "{'PT': 3,\n",
       " 'US': 'IS',\n",
       " 'IM': 'nr',\n",
       " 'rho': 999.1,\n",
       " 'mu': '',\n",
       " 'nu': 1.141e-06,\n",
       " 'E1': {'z': 1630, 'p': 25.3, 'v': 0},\n",
       " 'E2': {'z': 1573, 'p': 17.6, 'v': 0},\n",
       " 'Q': 0.39,\n",
       " 'Pu': {'P': '', 'h': '', 'ef': 1},\n",
       " 'P1': {'Q': 0.2394,\n",
       "  'Tu': {'P': '', 'h': '', 'ef': 1},\n",
       "  'D': 0.3048,\n",
       "  'L': 187,\n",
       "  'ks': 3e-05,\n",
       "  'K': [5.7]},\n",
       " 'P2': {'Q': 0.1506,\n",
       "  'Tu': {'P': '', 'h': '', 'ef': 1},\n",
       "  'D': '',\n",
       "  'L': 187,\n",
       "  'ks': 1.5e-06,\n",
       "  'K': [5.7]}}"
      ]
     },
     "execution_count": 1,
     "metadata": {},
     "output_type": "execute_result"
    }
   ],
   "source": [
    "import json\n",
    "with open('pipeDesign_js519.json', 'r') as f:\n",
    "    data = json.load(f)\n",
    "data"
   ]
  },
  {
   "cell_type": "code",
   "execution_count": 2,
   "id": "eee96d85-80de-4d5b-b8a3-ad8ff6c0cf3d",
   "metadata": {
    "scrolled": true
   },
   "outputs": [
    {
     "name": "stdout",
     "output_type": "stream",
     "text": [
      "\n",
      "Design of a parallel pipe system\n",
      "\n",
      "Design of pipe 2\n",
      " \n",
      "       D\"         hf         V         Q         he         f\n",
      "Iter 1  4  52.279542  6.538542  0.053010  12.420458  0.013035\n",
      "Iter 2  6  46.376952  7.941653  0.144867  18.323048  0.011758\n",
      "Iter 3  8  41.378960  8.959547  0.290552  23.321040  0.010990\n",
      "\n",
      "Results of iteration 1\n",
      "\n",
      "          hf         V         Q        he         f\n",
      "P1  5.452749  3.598654  0.262579  3.762323  0.013465\n",
      "P2  6.236184  3.202132  0.103843  2.978889  0.012966\n",
      "\n",
      "Results of iteration 2\n",
      "\n",
      "          hf         V         Q        he         f\n",
      "P1  6.119527  3.822335  0.278900  4.244567  0.013395\n",
      "P2  6.989505  3.408180  0.110525  3.374589  0.012829\n",
      "\n",
      "Results of iteration 3\n",
      "\n",
      "          hf         V         Q        he         f\n",
      "P1  6.136267  3.827793  0.279298  4.256697  0.013393\n",
      "P2  7.008401  3.413213  0.110688  3.384564  0.012825\n",
      "\n",
      "Results of iteration 4\n",
      "\n",
      "          hf         V         Q        he         f\n",
      "P1  6.136666  3.827923  0.279308  4.256986  0.013393\n",
      "P2  7.008850  3.413333  0.110692  3.384801  0.012825\n",
      "\n",
      "Energy head at node 2 = 1644.9063 (m)\n"
     ]
    }
   ],
   "source": [
    "%run main.py pipeDesign_js519.json"
   ]
  },
  {
   "cell_type": "code",
   "execution_count": null,
   "id": "22af3548-14da-4285-a12c-61c091037b64",
   "metadata": {},
   "outputs": [],
   "source": []
  }
 ],
 "metadata": {
  "kernelspec": {
   "display_name": "Python 3 (ipykernel)",
   "language": "python",
   "name": "python3"
  },
  "language_info": {
   "codemirror_mode": {
    "name": "ipython",
    "version": 3
   },
   "file_extension": ".py",
   "mimetype": "text/x-python",
   "name": "python",
   "nbconvert_exporter": "python",
   "pygments_lexer": "ipython3",
   "version": "3.10.12"
  }
 },
 "nbformat": 4,
 "nbformat_minor": 5
}
