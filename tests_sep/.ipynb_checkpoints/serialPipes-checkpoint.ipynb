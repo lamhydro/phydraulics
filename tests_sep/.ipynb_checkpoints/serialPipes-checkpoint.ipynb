{
 "cells": [
  {
   "cell_type": "markdown",
   "id": "65e81299-22fc-45f7-bc3c-5407d556349c",
   "metadata": {},
   "source": [
    "# Tuberías en serie\n",
    "## Comprobación de diseño\n",
    "### **Ejemplo No.1**\n",
    "> Una serie de 4 tuberias conecta dos tanques que forman parte del sistema de abastecimiento de agua de una finca dedicada a la piscicultura. La diferencia de altura entre los niveles de agua en los tanques es de 28.5 m. La primera tuberia de concreto tiene un diametro de 24 pulg, una longitud de 423 m, un coeficiente global de perdidas menores de 4.2, y un caudal lateral en su extremo final de 60 l/s, el cual alimenta el primer estanque de peces. La segunda tuberia en PVC, tiene un diametro de 20 pulg, una longitud de 174 m, un coeficiente global de perdidas menores de 3.4 y un caudal lateral de 74 l/s que llega al segundo estanque. La tercera tuberia, en PVC, tiene un diametro de 12 pulg, una longitud de 373 m, un coeficiente global de perdidas menores de 5.3 y un caudal lateral de de 60 l/s que alimenta el tercer estanque de peces. La ultima tuberia, en PVC, que llega al segundo tanque, tiene un diametro de 10 pulg, una longitud de 121 m, y un coeficiente global de perdidas menores de 7.5; dicha tuberia incluye una valvula de control totalmente abierta. Calcular el caudal que llega al segundo tanque. Como el agua esta a 14$^o$C:\n",
    "\n",
    "> - $\\rho$ = 999.2 kg/m$^3$\n",
    "> - $\\nu$ = 1.14 X 10$^{-6}$ m$^2$/s\n",
    "\n",
    "> *Solucion:*"
   ]
  },
  {
   "cell_type": "markdown",
   "id": "06132be4-2537-4b21-b037-8439a8766cb2",
   "metadata": {},
   "source": [
    "> Siguiendo el procedimiento descrito, se tiene:"
   ]
  },
  {
   "cell_type": "markdown",
   "id": "ce661e65-cb1a-434f-b1cd-32608fabf048",
   "metadata": {},
   "source": [
    "> La imformacion de entrada al programa es:"
   ]
  },
  {
   "cell_type": "code",
   "execution_count": 3,
   "id": "ee2467ed-071f-46e8-82c7-572dba3e408a",
   "metadata": {},
   "outputs": [
    {
     "data": {
      "text/plain": [
       "{'PT': 1,\n",
       " 'US': 'IS',\n",
       " 'IM': 'nr',\n",
       " 'rho': 999.3,\n",
       " 'mu': '',\n",
       " 'nu': 1.14e-06,\n",
       " 'E1': {'z': 28.5, 'p': 0, 'v': 0},\n",
       " 'E2': {'z': 0, 'p': 0, 'v': 0},\n",
       " 'Ki': 0.0,\n",
       " 'Ko': 0.0,\n",
       " 'P1': {'Qo': -0.06,\n",
       "  'Qi': 0,\n",
       "  'Pu': {'P': '', 'h': '', 'ef': 1},\n",
       "  'Tu': {'P': '', 'h': '', 'ef': 1},\n",
       "  'D': 0.6096,\n",
       "  'L': 423,\n",
       "  'ks': 0.0003,\n",
       "  'K': [4.2]},\n",
       " 'P2': {'Qo': -0.074,\n",
       "  'Qi': 0,\n",
       "  'Pu': {'P': '', 'h': '', 'ef': 1},\n",
       "  'Tu': {'P': '', 'h': '', 'ef': 1},\n",
       "  'D': 0.508,\n",
       "  'L': 174,\n",
       "  'ks': 1.5e-06,\n",
       "  'K': [3.4]},\n",
       " 'P3': {'Qo': -0.06,\n",
       "  'Qi': 0,\n",
       "  'Pu': {'P': '', 'h': '', 'ef': 1},\n",
       "  'Tu': {'P': '', 'h': '', 'ef': 1},\n",
       "  'D': 0.3048,\n",
       "  'L': 373,\n",
       "  'ks': 1.5e-06,\n",
       "  'K': [5.3]},\n",
       " 'P4': {'Qo': 0,\n",
       "  'Qi': 0,\n",
       "  'Pu': {'P': '', 'h': '', 'ef': 1},\n",
       "  'Tu': {'P': '', 'h': '', 'ef': 1},\n",
       "  'D': 0.254,\n",
       "  'L': 121,\n",
       "  'ks': 1.5e-06,\n",
       "  'K': [7.5]}}"
      ]
     },
     "execution_count": 3,
     "metadata": {},
     "output_type": "execute_result"
    }
   ],
   "source": [
    "import json\n",
    "with open('designTest_js51.json', 'r') as f:\n",
    "    data = json.load(f)\n",
    "data"
   ]
  },
  {
   "cell_type": "code",
   "execution_count": 4,
   "id": "e4c7c670-41d7-41d0-836e-c8e6a429fcd7",
   "metadata": {
    "scrolled": true
   },
   "outputs": [
    {
     "name": "stdout",
     "output_type": "stream",
     "text": [
      "\n",
      "Proving the design of a serial pipe system\n",
      "\n",
      " \n",
      "Iteration 1\n",
      " \n",
      "          hf         V         Q        he         f             Re\n",
      "P1  0.537550  0.928782  0.271078  0.184662  0.017620  496653.982051\n",
      "P2  0.253310  1.041417  0.211078  0.187944  0.013379  464070.196537\n",
      "P3  2.909985  1.878653  0.137078  0.953389  0.013219  502292.575828\n",
      "P4  0.797900  1.521146  0.077078  0.884512  0.014202  338921.927144\n",
      " \n",
      "Iteration 2\n",
      " \n",
      "          hf         V         Q        he         f             Re\n",
      "P1  0.948554  1.241823  0.362443  0.330118  0.017392  664048.315068\n",
      "P2  0.488035  1.492196  0.302443  0.385862  0.012555  664943.396157\n",
      "P3  7.402624  3.130816  0.228443  2.647841  0.012108  837081.241862\n",
      "P4  3.321220  3.324259  0.168443  4.224274  0.012378  740668.326385\n",
      " \n",
      "Iteration 3\n",
      " \n",
      "          hf         V         Q        he         f             Re\n",
      "P1  1.113620  1.347662  0.393333  0.388787  0.017337  720644.303392\n",
      "P2  0.582940  1.644604  0.333333  0.468708  0.012346  732858.582146\n",
      "P3  9.341460  3.554171  0.259333  3.412350  0.011856  950273.218509\n",
      "P4  4.522476  3.933892  0.199333  5.915713  0.012036  876498.698362\n",
      " \n",
      "Iteration 4\n",
      " \n",
      "          hf         V         Q        he         f             Re\n",
      "P1  1.165563  1.379324  0.402574  0.407270  0.017322  737575.331858\n",
      "P2  0.612825  1.690198  0.342574  0.495057  0.012288  753175.816305\n",
      "P3  9.961624  3.680821  0.268574  3.659875  0.011788  984135.275441\n",
      "P4  4.914781  4.116267  0.208574  6.476932  0.011947  917133.166680\n",
      " \n",
      "Iteration 5\n",
      " \n",
      "           hf         V        Q        he         f             Re\n",
      "P1   1.180767  1.388458  0.40524  0.412682  0.017318  742459.498991\n",
      "P2   0.621573  1.703350  0.34524  0.502791  0.012272  759036.816865\n",
      "P3  10.143938  3.717356  0.27124  3.732890  0.011769  993903.609708\n",
      "P4   5.030744  4.168878  0.21124  6.643555  0.011922  928855.167800\n",
      " \n",
      "Iteration 6\n",
      " \n",
      "           hf         V         Q        he         f             Re\n",
      "P1   1.185125  1.391065  0.406001  0.414233  0.017317  743853.751964\n",
      "P2   0.624081  1.707105  0.346001  0.505010  0.012267  760709.920432\n",
      "P3  10.196261  3.727785  0.272001  3.753865  0.011764  996692.115653\n",
      "P4   5.064076  4.183896  0.212001  6.691508  0.011915  932201.374935\n",
      " \n",
      "Iteration 7\n",
      " \n",
      "           hf         V         Q        he         f             Re\n",
      "P1   1.186366  1.391807  0.406218  0.414676  0.017317  744250.570300\n",
      "P2   0.624795  1.708174  0.346218  0.505643  0.012266  761186.102436\n",
      "P3  10.211176  3.730754  0.272218  3.759846  0.011762  997485.752327\n",
      "P4   5.073582  4.188170  0.212218  6.705188  0.011913  933153.738943\n",
      " \n",
      "Iteration 8\n",
      " \n",
      "           hf         V         Q        he         f             Re\n",
      "P1   1.186720  1.392018  0.406279  0.414801  0.017317  744363.412516\n",
      "P2   0.624999  1.708477  0.346279  0.505823  0.012265  761321.513094\n",
      "P3  10.215419  3.731598  0.272279  3.761547  0.011762  997711.436757\n",
      "P4   5.076286  4.189386  0.212279  6.709080  0.011912  933424.560260\n",
      " \n",
      "Iteration 9\n",
      " \n",
      "           hf         V         Q        he         f             Re\n",
      "P1   1.186820  1.392078  0.406297  0.414837  0.017317  744395.493389\n",
      "P2   0.625056  1.708564  0.346297  0.505874  0.012265  761360.010142\n",
      "P3  10.216625  3.731838  0.272297  3.762031  0.011762  997775.598503\n",
      "P4   5.077055  4.189731  0.212297  6.710187  0.011912  933501.554354\n",
      " \n",
      "Iteration 10\n",
      " \n",
      "           hf         V         Q        he         f             Re\n",
      "P1   1.186849  1.392095  0.406302  0.414847  0.017317  744404.613304\n",
      "P2   0.625073  1.708588  0.346302  0.505888  0.012265  761370.954040\n",
      "P3  10.216968  3.731906  0.272302  3.762169  0.011762  997793.838334\n",
      "P4   5.077274  4.189830  0.212302  6.710502  0.011912  933523.442152\n",
      " \n",
      "Iteration 11\n",
      " \n",
      "           hf         V         Q        he         f             Re\n",
      "P1   1.186857  1.392100  0.406303  0.414850  0.017317  744407.205853\n",
      "P2   0.625078  1.708595  0.346303  0.505893  0.012265  761374.065099\n",
      "P3  10.217066  3.731925  0.272303  3.762208  0.011762  997799.023431\n",
      "P4   5.077336  4.189858  0.212303  6.710591  0.011912  933529.664269\n",
      " \n",
      "Iteration 12\n",
      " \n",
      "           hf         V         Q        he         f             Re\n",
      "P1   1.186859  1.392101  0.406304  0.414851  0.017317  744407.942841\n",
      "P2   0.625079  1.708597  0.346304  0.505894  0.012265  761374.949485\n",
      "P3  10.217093  3.731931  0.272304  3.762219  0.011762  997800.497408\n",
      "P4   5.077354  4.189865  0.212304  6.710617  0.011912  933531.433041\n",
      " \n",
      "Iteration 13\n",
      " \n",
      "           hf         V         Q        he         f             Re\n",
      "P1   1.186860  1.392102  0.406304  0.414851  0.017317  744408.152346\n",
      "P2   0.625079  1.708598  0.346304  0.505894  0.012265  761375.200891\n",
      "P3  10.217101  3.731933  0.272304  3.762222  0.011762  997800.916417\n",
      "P4   5.077359  4.189868  0.212304  6.710624  0.011912  933531.935852\n",
      " \n",
      "Iteration 14\n",
      " \n",
      "           hf         V         Q        he         f             Re\n",
      "P1   1.186860  1.392102  0.406304  0.414851  0.017317  744408.211902\n",
      "P2   0.625079  1.708598  0.346304  0.505894  0.012265  761375.272358\n",
      "P3  10.217103  3.731933  0.272304  3.762223  0.011762  997801.035530\n",
      "P4   5.077360  4.189868  0.212304  6.710626  0.011912  933532.078787\n",
      " \n",
      "Iteration 15\n",
      " \n",
      "           hf         V         Q        he         f             Re\n",
      "P1   1.186860  1.392102  0.406304  0.414851  0.017317  744408.228832\n",
      "P2   0.625079  1.708598  0.346304  0.505894  0.012265  761375.292674\n",
      "P3  10.217104  3.731933  0.272304  3.762223  0.011762  997801.069390\n",
      "P4   5.077360  4.189869  0.212304  6.710626  0.011912  933532.119419\n"
     ]
    },
    {
     "data": {
      "image/png": "[encoded data removed]",
      "text/plain": [
       "<Figure size 576x288 with 1 Axes>"
      ]
     },
     "metadata": {
      "needs_background": "light"
     },
     "output_type": "display_data"
    }
   ],
   "source": [
    "%run main.py designTest_js51.json"
   ]
  },
  {
   "cell_type": "markdown",
   "id": "24db084b-157c-4376-aa98-a588e5ca278b",
   "metadata": {},
   "source": [
    "### **Ejemplo No.2**\n",
    "> La figura 6.7 ilustra un sistema de 3 tuberias conectadas en serie, cuyas caracteristicas geometricas estan definidas en la tabla 6.2. Determinar el caudal que transporta el sistema.\n",
    "\n",
    "> $\\rho$ = 999.3 kg/m$^3$\n",
    "\n",
    "> $\\nu$ = 1.0 X 10$^{-6}$ m$^2$/s\n",
    " \n",
    "![alternatvie text](./figs/fcd62.jpeg)\n",
    "\n",
    "> *Solucion:*"
   ]
  },
  {
   "cell_type": "markdown",
   "id": "c92b62e9-250d-4be1-ab95-7dcdedf08bb0",
   "metadata": {},
   "source": [
    "> Siguiendo el procedimiento descrito, se tiene:"
   ]
  },
  {
   "cell_type": "markdown",
   "id": "7cc4327c-0baa-48ba-ac48-3de2cfbf99c8",
   "metadata": {},
   "source": [
    "> La imformacion de entrada al programa es:"
   ]
  },
  {
   "cell_type": "code",
   "execution_count": 5,
   "id": "c0e63ada-5df7-417d-a1c9-34c380a318fa",
   "metadata": {},
   "outputs": [
    {
     "data": {
      "text/plain": [
       "{'PT': 1,\n",
       " 'US': 'IS',\n",
       " 'IM': 'nr',\n",
       " 'rho': 999.3,\n",
       " 'mu': '',\n",
       " 'nu': 1e-06,\n",
       " 'E1': {'z': 10, 'p': 0, 'v': 0},\n",
       " 'E2': {'z': 0, 'p': 0, 'v': 0},\n",
       " 'Ki': 0.0,\n",
       " 'Ko': 0.0,\n",
       " 'P1': {'Qo': 0,\n",
       "  'Qi': 0,\n",
       "  'Pu': {'P': '', 'h': '', 'ef': 1},\n",
       "  'Tu': {'P': '', 'h': '', 'ef': 1},\n",
       "  'D': 0.3,\n",
       "  'L': 300,\n",
       "  'ks': 0.00025,\n",
       "  'K': [0]},\n",
       " 'P2': {'Qo': 0,\n",
       "  'Qi': 0,\n",
       "  'Pu': {'P': '', 'h': '', 'ef': 1},\n",
       "  'Tu': {'P': '', 'h': '', 'ef': 1},\n",
       "  'D': 0.5,\n",
       "  'L': 300,\n",
       "  'ks': 0.00025,\n",
       "  'K': [0]},\n",
       " 'P3': {'Qo': 0,\n",
       "  'Qi': 0,\n",
       "  'Pu': {'P': '', 'h': '', 'ef': 1},\n",
       "  'Tu': {'P': '', 'h': '', 'ef': 1},\n",
       "  'D': 0.3,\n",
       "  'L': 600,\n",
       "  'ks': 0.00025,\n",
       "  'K': [0]}}"
      ]
     },
     "execution_count": 5,
     "metadata": {},
     "output_type": "execute_result"
    }
   ],
   "source": [
    "import json\n",
    "with open('designTest_cd62.json', 'r') as f:\n",
    "    data = json.load(f)\n",
    "data"
   ]
  },
  {
   "cell_type": "code",
   "execution_count": 6,
   "id": "ee54885f-b1cf-424e-a6d6-dcc274e97f01",
   "metadata": {
    "scrolled": true
   },
   "outputs": [
    {
     "name": "stdout",
     "output_type": "stream",
     "text": [
      "\n",
      "Proving the design of a serial pipe system\n",
      "\n",
      " \n",
      "Iteration 1\n",
      " \n",
      "          hf         V         Q   he         f             Re\n",
      "P1  3.249116  1.811702  0.128062  0.0  0.019422  543510.549937\n",
      "P2  0.235523  0.652213  0.128062  0.0  0.018105  326106.329962\n",
      "P3  6.498232  1.811702  0.128062  0.0  0.019422  543510.549937\n",
      " \n",
      "Iteration 2\n",
      " \n",
      "          hf         V         Q   he         f             Re\n",
      "P1  3.254681  1.813277  0.128173  0.0  0.019421  543983.032326\n",
      "P2  0.235919  0.652780  0.128173  0.0  0.018104  326389.819395\n",
      "P3  6.509363  1.813277  0.128173  0.0  0.019421  543983.032326\n",
      " \n",
      "Iteration 3\n",
      " \n",
      "          hf         V         Q   he         f             Re\n",
      "P1  3.254693  1.813280  0.128173  0.0  0.019421  543984.048113\n",
      "P2  0.235920  0.652781  0.128173  0.0  0.018104  326390.428868\n",
      "P3  6.509386  1.813280  0.128173  0.0  0.019421  543984.048113\n"
     ]
    },
    {
     "data": {
      "image/png": "[encoded data removed]",
      "text/plain": [
       "<Figure size 576x288 with 1 Axes>"
      ]
     },
     "metadata": {
      "needs_background": "light"
     },
     "output_type": "display_data"
    }
   ],
   "source": [
    "%run main.py designTest_cd62.json"
   ]
  },
  {
   "cell_type": "markdown",
   "id": "caeb46f5-c23b-4b82-b247-af944e1e2f64",
   "metadata": {},
   "source": [
    "## Calculo de la potencia requerida\n",
    "### **Ejemplo No.1**\n",
    "> Como parte del sistema de riego de una finca se utilizan dos tuberias en serie para conectar la bocatoma con un tanque de almacenamiento. La diferencia de nivel entre estas dos estructuras es de 31.7 m, estando la bocatoma por debajo del tanque. El caudal que debe llegar al tanque es de 87 l/s. La primera tuberia, en acero, tiene un diametro de 8 pulg, una longitud de 184 m y un coeficiente global de perdidas menores de 7.1. Al final de esta debe extraerse un caudal de 94 l/s con el fin de regar la parte baja de la finca. La segunda tuberia en PVC, tiene una longitud de 393 m, un diametro de 6 pulg, y un coeficiente global de perdidas menores de 11.2, el cual incluye la valvula de control. Calcular la potencia de la bomba requerida para realizar el trabajo. El fluido es agua a 15 $^o$C:\n",
    "\n",
    "> - $\\rho$ = 999.3 kg/m$^3$\n",
    "\n",
    "> - $\\nu$ = 1.14 X 10$^{-6}$ m$^2$/s\n",
    "\n",
    "> *Solucion:*"
   ]
  },
  {
   "cell_type": "markdown",
   "id": "ff270682-c354-4634-917f-5b8ca889a9be",
   "metadata": {},
   "source": [
    "> Siguiendo el procedimiento descrito, se tiene:"
   ]
  },
  {
   "cell_type": "markdown",
   "id": "56ea5f4b-00c9-49ec-80b2-09d29c897c49",
   "metadata": {},
   "source": [
    "> La imformacion de entrada al programa es:"
   ]
  },
  {
   "cell_type": "code",
   "execution_count": 7,
   "id": "b989d2a9-874c-4c57-bbf8-0dd5f0ec47c2",
   "metadata": {},
   "outputs": [
    {
     "data": {
      "text/plain": [
       "{'PT': 2,\n",
       " 'US': 'IS',\n",
       " 'IM': 'nr',\n",
       " 'rho': 999.3,\n",
       " 'mu': '',\n",
       " 'nu': 1.14e-06,\n",
       " 'E1': {'z': 0, 'p': 0, 'v': 0},\n",
       " 'E2': {'z': 31.7, 'p': 0, 'v': 0},\n",
       " 'Ki': 0.0,\n",
       " 'Ko': 0.0,\n",
       " 'P1': {'Qo': -0.094,\n",
       "  'Qi': 0,\n",
       "  'Pu': {'P': '', 'h': '', 'ef': 0.75},\n",
       "  'Tu': {'P': '', 'h': '', 'ef': 1},\n",
       "  'D': 0.2032,\n",
       "  'L': 184,\n",
       "  'ks': 4.6e-05,\n",
       "  'K': [7.1]},\n",
       " 'P2': {'Qo': -0.087,\n",
       "  'Qi': 0,\n",
       "  'Pu': {'P': '', 'h': '', 'ef': 1},\n",
       "  'Tu': {'P': '', 'h': '', 'ef': 1},\n",
       "  'D': 0.1524,\n",
       "  'L': 393,\n",
       "  'ks': 1.5e-06,\n",
       "  'K': [11.2]}}"
      ]
     },
     "execution_count": 7,
     "metadata": {},
     "output_type": "execute_result"
    }
   ],
   "source": [
    "import json\n",
    "with open('systemPower_js52.json', 'r') as f:\n",
    "    data = json.load(f)\n",
    "data"
   ]
  },
  {
   "cell_type": "code",
   "execution_count": 16,
   "id": "d2131ad8-eb6c-4445-8ac0-4fa020537cec",
   "metadata": {
    "scrolled": true
   },
   "outputs": [
    {
     "name": "stdout",
     "output_type": "stream",
     "text": [
      "\n",
      "Estimating the power in serial pipes\n",
      "\n",
      "           hf         V      Q         he         f             Re\n",
      "P1  21.516123  5.581376  0.181  11.273063  0.014965  994855.805347\n",
      "P2  38.156354  4.769353  0.087  12.984879  0.012763  637587.145968\n",
      "\n",
      "hp =   115.63 (m)\n",
      "P = 273561.08 (W)\n"
     ]
    },
    {
     "data": {
      "image/png": "[encoded data removed]",
      "text/plain": [
       "<Figure size 576x288 with 1 Axes>"
      ]
     },
     "metadata": {
      "needs_background": "light"
     },
     "output_type": "display_data"
    }
   ],
   "source": [
    "%run main.py systemPower_js52.json"
   ]
  },
  {
   "cell_type": "markdown",
   "id": "9e9d7b39-e5ca-4bd5-8d8b-709670772c7f",
   "metadata": {},
   "source": [
    "### **Ejemplo No.2**\n",
    "> Calcule la altura H del tanque mostrado en la figura teniendo en cuenta que el caudal que debe llegar a la piscina es de 54.3 l/s. El material de las tuberias es hierro galvanizado.\n",
    "\n",
    "> - $\\rho$ = 999.1 kg/m$^3$\n",
    "> - $\\nu$ = 1.141 X 10$^{-6}$ m$^2$/s\n",
    "\n",
    "![alternatvie text](./figs/fjs55.jpeg)\n",
    "\n",
    "> *Solucion:*"
   ]
  },
  {
   "cell_type": "markdown",
   "id": "16063887-3eaf-4dda-825f-1efb16fb2267",
   "metadata": {},
   "source": [
    "> Siguiendo el procedimiento descrito, se tiene:"
   ]
  },
  {
   "cell_type": "markdown",
   "id": "7d80fb99-9ede-4299-9373-a5819d22f00c",
   "metadata": {},
   "source": [
    "> La imformacion de entrada al programa es:"
   ]
  },
  {
   "cell_type": "code",
   "execution_count": 9,
   "id": "3f5459ec-e0a2-4f02-9339-2a2617ba6a69",
   "metadata": {},
   "outputs": [
    {
     "data": {
      "text/plain": [
       "{'PT': 2,\n",
       " 'US': 'IS',\n",
       " 'IM': 'nr',\n",
       " 'rho': 999.1,\n",
       " 'mu': '',\n",
       " 'nu': 1.141e-06,\n",
       " 'E1': {'z': 0, 'p': 0, 'v': 0},\n",
       " 'E2': {'z': 0, 'p': 0, 'v': 0},\n",
       " 'Ki': 0.0,\n",
       " 'Ko': 0.0,\n",
       " 'P1': {'Qo': -0.0303,\n",
       "  'Qi': 0,\n",
       "  'Pu': {'P': '', 'h': '', 'ef': 1},\n",
       "  'Tu': {'P': '', 'h': '', 'ef': 1},\n",
       "  'D': 0.254,\n",
       "  'L': 393,\n",
       "  'ks': 0.00015,\n",
       "  'K': [12.3]},\n",
       " 'P2': {'Qo': -0.0288,\n",
       "  'Qi': 0,\n",
       "  'Pu': {'P': '', 'h': '', 'ef': 1},\n",
       "  'Tu': {'P': '', 'h': '', 'ef': 1},\n",
       "  'D': 0.2032,\n",
       "  'L': 125,\n",
       "  'ks': 0.00015,\n",
       "  'K': [6.9]},\n",
       " 'P3': {'Qo': -0.0543,\n",
       "  'Qi': 0,\n",
       "  'Pu': {'P': '', 'h': '', 'ef': 1},\n",
       "  'Tu': {'P': '', 'h': '', 'ef': 1},\n",
       "  'D': 0.1524,\n",
       "  'L': 230,\n",
       "  'ks': 0.00015,\n",
       "  'K': [7.8]}}"
      ]
     },
     "execution_count": 9,
     "metadata": {},
     "output_type": "execute_result"
    }
   ],
   "source": [
    "import json\n",
    "with open('systemPower_js55.json', 'r') as f:\n",
    "    data = json.load(f)\n",
    "data"
   ]
  },
  {
   "cell_type": "code",
   "execution_count": 17,
   "id": "72d9d69f-4ace-4a6b-9ed1-62d1010a7099",
   "metadata": {
    "scrolled": true
   },
   "outputs": [
    {
     "name": "stdout",
     "output_type": "stream",
     "text": [
      "\n",
      "Estimating the power in serial pipes\n",
      "\n",
      "           hf         V       Q        he         f             Re\n",
      "P1   7.190890  2.237978  0.1134  3.139913  0.018206  498200.102041\n",
      "P2   3.925567  2.562499  0.0831  2.309285  0.019067  456353.929449\n",
      "P3  13.845022  2.976734  0.0543  3.522700  0.020313  397593.555862\n",
      "\n",
      "hp =    33.93 (m)\n",
      "P = 37715.35 (W)\n"
     ]
    },
    {
     "data": {
      "image/png": "[encoded data removed]",
      "text/plain": [
       "<Figure size 576x288 with 1 Axes>"
      ]
     },
     "metadata": {
      "needs_background": "light"
     },
     "output_type": "display_data"
    }
   ],
   "source": [
    "%run main.py systemPower_js55.json"
   ]
  },
  {
   "cell_type": "markdown",
   "id": "c3411f8f-bab3-4cbf-a94c-4e60b85850aa",
   "metadata": {},
   "source": [
    "## Diseno de tuberias\n",
    "### **Ejemplo No.1**\n",
    "> Una de las tuberias principales de un sistema de riego localizado de alta frequencia debe conectar la estacion de fertirrigacion con tres modulos de riego que operan en forma simultanea. Los caudales consumidos en estos son: modulo A, 45.1 l/s; modulo B, 39.0 l/s; modulo C, 73.2 l/s. En la estacion de bombeo se cuenta con una bomba de 65 kW con una eficiencia del 85%. La tuberia 1, que va de la estacion hasta el modulo A, tiene una longitud de 350 m y un coeficiente global de perdidas menores de 7.9. La tuberia 2, que une el modulo A con el modulo B, tiene una longitud de 123 m y un coeficiente global de perdidas menores de 3.3. Finalmente, la tuberia 3, que va del modulo B al modulo C, tiene una longitud de 174 m y un coeficiente global de perdidas menores de 3.5. Todo el sistema se encuentra en un terreno approximadamente horizontal y el agua bombeada se encuentra a 15 $^o$C. Diseñar las tres tuberias si el material disponible es PVC.\n",
    "\n",
    "> - $\\rho$ = 999.1 kg/m$^3$\n",
    "\n",
    "> - $\\nu$ = 1.14 X 10$^{-6}$ m$^2$/s\n",
    "\n",
    "![alternatvie text](./figs/fjs53.jpeg)\n",
    "\n",
    "> *Solucion:*"
   ]
  },
  {
   "cell_type": "markdown",
   "id": "e1b37103-bed9-4bb3-a28b-84cc03f9e032",
   "metadata": {},
   "source": [
    "> Siguiendo el procedimiento descrito, se tiene:"
   ]
  },
  {
   "cell_type": "markdown",
   "id": "9a2469f9-933a-4f27-85b7-9832ea164c69",
   "metadata": {},
   "source": [
    "> La imformacion de entrada al programa es:"
   ]
  },
  {
   "cell_type": "code",
   "execution_count": 1,
   "id": "a63e36f5-add8-4695-a462-17a3931ceb38",
   "metadata": {},
   "outputs": [
    {
     "data": {
      "text/plain": [
       "{'PT': 3,\n",
       " 'US': 'IS',\n",
       " 'IM': 'fp',\n",
       " 'rho': 999.1,\n",
       " 'mu': '',\n",
       " 'nu': 1.14e-06,\n",
       " 'E1': {'z': 0, 'p': 0, 'v': 0},\n",
       " 'E2': {'z': 0, 'p': 0, 'v': 0},\n",
       " 'Ki': 0.0,\n",
       " 'Ko': 0.0,\n",
       " 'P1': {'Qo': -0.0451,\n",
       "  'Qi': 0,\n",
       "  'Pu': {'P': 65000.0, 'h': '', 'ef': 0.85},\n",
       "  'Tu': {'P': '', 'h': '', 'ef': 1},\n",
       "  'D': '',\n",
       "  'L': 350,\n",
       "  'ks': 1.5e-06,\n",
       "  'K': [7.9]},\n",
       " 'P2': {'Qo': -0.039,\n",
       "  'Qi': 0,\n",
       "  'Pu': {'P': '', 'h': '', 'ef': 1},\n",
       "  'Tu': {'P': '', 'h': '', 'ef': 1},\n",
       "  'D': '',\n",
       "  'L': 123,\n",
       "  'ks': 1.5e-06,\n",
       "  'K': [3.3]},\n",
       " 'P3': {'Qo': -0.0732,\n",
       "  'Qi': 0,\n",
       "  'Pu': {'P': '', 'h': '', 'ef': 1},\n",
       "  'Tu': {'P': '', 'h': '', 'ef': 1},\n",
       "  'D': '',\n",
       "  'L': 174,\n",
       "  'ks': 1.5e-06,\n",
       "  'K': [3.5]}}"
      ]
     },
     "execution_count": 1,
     "metadata": {},
     "output_type": "execute_result"
    }
   ],
   "source": [
    "import json\n",
    "with open('pipeDesign_js53.json', 'r') as f:\n",
    "    data = json.load(f)\n",
    "data"
   ]
  },
  {
   "cell_type": "code",
   "execution_count": 1,
   "id": "5fe6bdcc-3c9e-41ac-b3d1-8679b5a010ff",
   "metadata": {
    "scrolled": true
   },
   "outputs": [
    {
     "name": "stdout",
     "output_type": "stream",
     "text": [
      "\n",
      "Design of a serial pipe system\n",
      "\n",
      " \n",
      "Iteration 1\n",
      " \n",
      "    D\"        hf         V       Q        he         f             Re\n",
      "P1  10  8.475585  3.104355  0.1573  3.880350  0.012523  691672.124557\n",
      "P2   8  4.725136  3.459836  0.1122  2.013381  0.012794  616700.670497\n",
      "P3   8  3.065494  2.257219  0.0732  0.908901  0.013786  402339.474870\n",
      "\n",
      "Balance of energy at the end:    12.77\n",
      " \n",
      "Iteration 2\n",
      " \n",
      "    D\"         hf         V       Q        he         f             Re\n",
      "P1  10   8.475585  3.104355  0.1573  3.880350  0.012523  691672.124557\n",
      "P2   8   4.725136  3.459836  0.1122  2.013381  0.012794  616700.670497\n",
      "P3   6  12.314152  4.012835  0.0732  2.872576  0.013141  536452.633160\n",
      "\n",
      "Balance of energy at the end:     1.56\n",
      " \n",
      "Iteration 3\n",
      " \n",
      "    D\"        hf         V       Q        he         f             Re\n",
      "P1  12  3.510034  2.155802  0.1573  1.871311  0.012904  576393.437131\n",
      "P2  10  1.606595  2.214295  0.1122  0.824681  0.013276  493360.536398\n",
      "P3   8  3.065494  2.257219  0.0732  0.908901  0.013786  402339.474870\n",
      "\n",
      "Balance of energy at the end:    24.05\n",
      " \n",
      "Iteration 4\n",
      " \n",
      "    D\"         hf         V       Q        he         f             Re\n",
      "P1  10   8.475585  3.104355  0.1573  3.880350  0.012523  691672.124557\n",
      "P2   6  19.050396  6.150820  0.1122  6.363280  0.012241  822267.560663\n",
      "P3   6  12.314152  4.012835  0.0732  2.872576  0.013141  536452.633160\n",
      "\n",
      "Balance of energy at the end:   -17.12\n"
     ]
    },
    {
     "data": {
      "image/png": "[encoded data removed]",
      "text/plain": [
       "<Figure size 576x288 with 1 Axes>"
      ]
     },
     "metadata": {
      "needs_background": "light"
     },
     "output_type": "display_data"
    }
   ],
   "source": [
    "%run main.py pipeDesign_js53.json"
   ]
  },
  {
   "cell_type": "markdown",
   "id": "ca6b9b42-ec8a-4ea2-ac61-3ee138c21764",
   "metadata": {},
   "source": [
    "### **Ejemplo No.2**\n",
    "> En una planta de tratamiento de agua potable es necesario repartir el agua cruda a tres tanques floculadores, tal como se muestra en la figura. Calcule el diametro de cada una de las tres tuberias si su material es hierro galvanizado.\n",
    "\n",
    "> - $\\rho$ = 999.1 kg/m$^3$\n",
    "\n",
    "> - $\\nu$ = 1.14 X 10$^{-6}$ m$^2$/s\n",
    "\n",
    "![alternatvie text](./figs/fjs59.jpeg)\n",
    "\n",
    "\n",
    "> *Solucion:*"
   ]
  },
  {
   "cell_type": "markdown",
   "id": "c7787657-9500-408a-b9ed-cfc4f5537da2",
   "metadata": {},
   "source": [
    "> Siguiendo el procedimiento descrito, se tiene:"
   ]
  },
  {
   "cell_type": "markdown",
   "id": "d9ecc75e-cd15-4f1f-8a6d-e648bf6e4b09",
   "metadata": {},
   "source": [
    "> La imformacion de entrada al programa es:"
   ]
  },
  {
   "cell_type": "code",
   "execution_count": 13,
   "id": "76cecd6d-00df-48aa-be4e-b9d6770aa554",
   "metadata": {},
   "outputs": [
    {
     "data": {
      "text/plain": [
       "{'PT': 3,\n",
       " 'US': 'IS',\n",
       " 'IM': 'nr',\n",
       " 'rho': 999.1,\n",
       " 'mu': '',\n",
       " 'nu': 1.14e-06,\n",
       " 'E1': {'z': 19.3, 'p': 0, 'v': 0},\n",
       " 'E2': {'z': 0, 'p': 0, 'v': 0},\n",
       " 'Ki': 0.0,\n",
       " 'Ko': 0.0,\n",
       " 'P1': {'Qo': -0.16,\n",
       "  'Qi': 0,\n",
       "  'Pu': {'P': '', 'h': '', 'ef': 1},\n",
       "  'Tu': {'P': '', 'h': '', 'ef': 1},\n",
       "  'D': '',\n",
       "  'L': 72,\n",
       "  'ks': 0.00015,\n",
       "  'K': [6.4]},\n",
       " 'P2': {'Qo': -0.16,\n",
       "  'Qi': 0,\n",
       "  'Pu': {'P': '', 'h': '', 'ef': 1},\n",
       "  'Tu': {'P': '', 'h': '', 'ef': 1},\n",
       "  'D': '',\n",
       "  'L': 45,\n",
       "  'ks': 0.00015,\n",
       "  'K': [3.6]},\n",
       " 'P3': {'Qo': -0.16,\n",
       "  'Qi': 0,\n",
       "  'Pu': {'P': '', 'h': '', 'ef': 1},\n",
       "  'Tu': {'P': '', 'h': '', 'ef': 1},\n",
       "  'D': '',\n",
       "  'L': 45,\n",
       "  'ks': 0.00015,\n",
       "  'K': [3.6]}}"
      ]
     },
     "execution_count": 13,
     "metadata": {},
     "output_type": "execute_result"
    }
   ],
   "source": [
    "import json\n",
    "with open('pipeDesign_js59.json', 'r') as f:\n",
    "    data = json.load(f)\n",
    "data"
   ]
  },
  {
   "cell_type": "code",
   "execution_count": 2,
   "id": "eee96d85-80de-4d5b-b8a3-ad8ff6c0cf3d",
   "metadata": {
    "scrolled": true
   },
   "outputs": [
    {
     "name": "stdout",
     "output_type": "stream",
     "text": [
      "\n",
      "Design of a serial pipe system\n",
      "\n",
      " \n",
      "Iteration 1\n",
      " \n",
      "    D\"        hf         V     Q        he         f            Re\n",
      "P1  16  1.990951  3.700360  0.48  4.466516  0.016102  1.319146e+06\n",
      "P2  14  1.114879  3.222082  0.32  1.904920  0.016650  1.005063e+06\n",
      "P3  10  1.617838  3.157640  0.16  1.829485  0.017969  7.035444e+05\n",
      "\n",
      "Balance of energy at the end:     6.38\n",
      " \n",
      "Iteration 2\n",
      " \n",
      "    D\"        hf         V     Q        he         f            Re\n",
      "P1  16  1.990951  3.700360  0.48  4.466516  0.016102  1.319146e+06\n",
      "P2  12  2.472174  4.385612  0.32  3.529099  0.017081  1.172574e+06\n",
      "P3  10  1.617838  3.157640  0.16  1.829485  0.017969  7.035444e+05\n",
      "\n",
      "Balance of energy at the end:     3.39\n",
      " \n",
      "Iteration 3\n",
      " \n",
      "    D\"        hf         V     Q        he         f            Re\n",
      "P1  16  1.990951  3.700360  0.48  4.466516  0.016102  1.319146e+06\n",
      "P2  14  1.114879  3.222082  0.32  1.904920  0.016650  1.005063e+06\n",
      "P3  10  1.617838  3.157640  0.16  1.829485  0.017969  7.035444e+05\n",
      "\n",
      "Balance of energy at the end:     6.38\n",
      " \n",
      "Iteration 4\n",
      " \n",
      "    D\"        hf         V     Q        he         f            Re\n",
      "P1  16  1.990951  3.700360  0.48  4.466516  0.016102  1.319146e+06\n",
      "P2  12  2.472174  4.385612  0.32  3.529099  0.017081  1.172574e+06\n",
      "P3  10  1.617838  3.157640  0.16  1.829485  0.017969  7.035444e+05\n",
      "\n",
      "Balance of energy at the end:     3.39\n",
      " \n",
      "Iteration 5\n",
      " \n",
      "    D\"        hf         V     Q        he         f            Re\n",
      "P1  16  1.990951  3.700360  0.48  4.466516  0.016102  1.319146e+06\n",
      "P2  14  1.114879  3.222082  0.32  1.904920  0.016650  1.005063e+06\n",
      "P3  10  1.617838  3.157640  0.16  1.829485  0.017969  7.035444e+05\n",
      "\n",
      "Balance of energy at the end:     6.38\n",
      " \n",
      "Iteration 6\n",
      " \n",
      "    D\"        hf         V     Q        he         f            Re\n",
      "P1  16  1.990951  3.700360  0.48  4.466516  0.016102  1.319146e+06\n",
      "P2  12  2.472174  4.385612  0.32  3.529099  0.017081  1.172574e+06\n",
      "P3  10  1.617838  3.157640  0.16  1.829485  0.017969  7.035444e+05\n",
      "\n",
      "Balance of energy at the end:     3.39\n",
      " \n",
      "Iteration 7\n",
      " \n",
      "    D\"        hf         V     Q        he         f            Re\n",
      "P1  16  1.990951  3.700360  0.48  4.466516  0.016102  1.319146e+06\n",
      "P2  14  1.114879  3.222082  0.32  1.904920  0.016650  1.005063e+06\n",
      "P3  10  1.617838  3.157640  0.16  1.829485  0.017969  7.035444e+05\n",
      "\n",
      "Balance of energy at the end:     6.38\n",
      " \n",
      "Iteration 8\n",
      " \n",
      "    D\"        hf         V     Q        he         f            Re\n",
      "P1  16  1.990951  3.700360  0.48  4.466516  0.016102  1.319146e+06\n",
      "P2  12  2.472174  4.385612  0.32  3.529099  0.017081  1.172574e+06\n",
      "P3  10  1.617838  3.157640  0.16  1.829485  0.017969  7.035444e+05\n",
      "\n",
      "Balance of energy at the end:     3.39\n",
      " \n",
      "Iteration 9\n",
      " \n",
      "    D\"        hf         V     Q        he         f            Re\n",
      "P1  16  1.990951  3.700360  0.48  4.466516  0.016102  1.319146e+06\n",
      "P2  14  1.114879  3.222082  0.32  1.904920  0.016650  1.005063e+06\n",
      "P3  10  1.617838  3.157640  0.16  1.829485  0.017969  7.035444e+05\n",
      "\n",
      "Balance of energy at the end:     6.38\n",
      " \n",
      "Iteration 10\n",
      " \n",
      "    D\"        hf         V     Q        he         f            Re\n",
      "P1  16  1.990951  3.700360  0.48  4.466516  0.016102  1.319146e+06\n",
      "P2  12  2.472174  4.385612  0.32  3.529099  0.017081  1.172574e+06\n",
      "P3  10  1.617838  3.157640  0.16  1.829485  0.017969  7.035444e+05\n",
      "\n",
      "Balance of energy at the end:     3.39\n",
      " \n",
      "Iteration 11\n",
      " \n",
      "    D\"        hf         V     Q        he         f            Re\n",
      "P1  16  1.990951  3.700360  0.48  4.466516  0.016102  1.319146e+06\n",
      "P2  14  1.114879  3.222082  0.32  1.904920  0.016650  1.005063e+06\n",
      "P3  10  1.617838  3.157640  0.16  1.829485  0.017969  7.035444e+05\n",
      "\n",
      "Balance of energy at the end:     6.38\n"
     ]
    },
    {
     "data": {
      "image/png": "[encoded data removed]",
      "text/plain": [
       "<Figure size 576x288 with 1 Axes>"
      ]
     },
     "metadata": {
      "needs_background": "light"
     },
     "output_type": "display_data"
    }
   ],
   "source": [
    "%run main.py pipeDesign_js59.json"
   ]
  },
  {
   "cell_type": "code",
   "execution_count": null,
   "id": "22af3548-14da-4285-a12c-61c091037b64",
   "metadata": {},
   "outputs": [],
   "source": []
  }
 ],
 "metadata": {
  "kernelspec": {
   "display_name": "Python 3 (ipykernel)",
   "language": "python",
   "name": "python3"
  },
  "language_info": {
   "codemirror_mode": {
    "name": "ipython",
    "version": 3
   },
   "file_extension": ".py",
   "mimetype": "text/x-python",
   "name": "python",
   "nbconvert_exporter": "python",
   "pygments_lexer": "ipython3",
   "version": "3.10.12"
  }
 },
 "nbformat": 4,
 "nbformat_minor": 5
}
